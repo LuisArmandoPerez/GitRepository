{
 "metadata": {
  "language": "Julia",
  "name": "",
  "signature": "sha256:bbde254021bc4312dd0335c94369c18b325c0404f12e1696d1bc5305b6f33e99"
 },
 "nbformat": 3,
 "nbformat_minor": 0,
 "worksheets": [
  {
   "cells": [
    {
     "cell_type": "code",
     "collapsed": false,
     "input": [
      "using SymPy\n",
      "using Interact\n",
      "using PyPlot\n",
      "using PyCall\n",
      "using Markdown\n",
      "using ODE\n",
      "@pyimport matplotlib.animation as anim "
     ],
     "language": "python",
     "metadata": {},
     "outputs": []
    },
    {
     "cell_type": "markdown",
     "metadata": {},
     "source": [
      " # Mec\u00e1nica de una part\u00edcula"
     ]
    },
    {
     "cell_type": "markdown",
     "metadata": {},
     "source": [
      "Definimos un vector de posici\u00f3n $\\vec{r} = (r_x, r_y,r_z)$ = radio vector de una part\u00edcula."
     ]
    },
    {
     "cell_type": "code",
     "collapsed": false,
     "input": [
      "t,m,a,v=Sym(\"t,m,\\\\vec{a},\\\\vec{v}\")\n",
      "r=SymMatrix(\"\\\\vec{r}\")\n",
      "#r_x=SymFunction(\"r_x\")(t)\n",
      "#r_y=SymFunction(\"r_y\")(t)\n",
      "#r_z=SymFunction(\"r_z\")(t);"
     ],
     "language": "python",
     "metadata": {},
     "outputs": []
    },
    {
     "cell_type": "code",
     "collapsed": false,
     "input": [
      "r_x,r_y,r_z=Sym(\"r_x,r_y,r_z\")\n",
      "r=[r_x,r_y,r_z]\n",
      "Eq(sym\"\\vec{r}\",r)"
     ],
     "language": "python",
     "metadata": {},
     "outputs": []
    },
    {
     "cell_type": "markdown",
     "metadata": {},
     "source": [
      "La velcodidad est\u00e1 dada por: $\\vec{v}=\\frac{d\\vec{r}}{dt}$"
     ]
    },
    {
     "cell_type": "code",
     "collapsed": false,
     "input": [
      "v=SymMatrix(\"\\\\vec{v}\")"
     ],
     "language": "python",
     "metadata": {},
     "outputs": [
      {
       "metadata": {},
       "output_type": "pyout",
       "prompt_number": 7,
       "text": [
        "\\vec{v}"
       ]
      }
     ],
     "prompt_number": 7
    },
    {
     "cell_type": "code",
     "collapsed": false,
     "input": [
      "v_x,v_y,v_z=Sym(\"v_x,v_y,v_z\")"
     ],
     "language": "python",
     "metadata": {},
     "outputs": [
      {
       "metadata": {},
       "output_type": "pyout",
       "prompt_number": 16,
       "text": [
        "(v_x,v_y,v_z)"
       ]
      }
     ],
     "prompt_number": 16
    },
    {
     "cell_type": "code",
     "collapsed": false,
     "input": [
      "v="
     ],
     "language": "python",
     "metadata": {},
     "outputs": [
      {
       "latex": [
        "\\begin{bmatrix}v_{x}\\\\v_{y}\\\\v_{z}\\end{bmatrix}"
       ],
       "metadata": {},
       "output_type": "pyout",
       "prompt_number": 17,
       "text": [
        "3-element Array{Sym,1}:\n",
        " v_x\n",
        " v_y\n",
        " v_z"
       ]
      }
     ],
     "prompt_number": 17
    },
    {
     "cell_type": "code",
     "collapsed": false,
     "input": [
      "v=diff(r(t),t)"
     ],
     "language": "python",
     "metadata": {},
     "outputs": []
    },
    {
     "cell_type": "code",
     "collapsed": false,
     "input": [
      "v_x,v_y,v_z=Sym(\"v_x,v_y,v_z\")\n",
      "v=[v_x,v_y,v_z]\n",
      "Eq(sym\"\\vec{r}\",r)"
     ],
     "language": "python",
     "metadata": {},
     "outputs": []
    },
    {
     "cell_type": "code",
     "collapsed": false,
     "input": [
      "v=SymMatrix(\"\\\\vec{v}\")\n",
      "#v_x=SymFunction(\"v_x\")(t)\n",
      "#v_y=SymFunction(\"v_y\")(t)\n",
      "#v_z=SymFunction(\"v_z\")(t);"
     ],
     "language": "python",
     "metadata": {},
     "outputs": [],
     "prompt_number": 49
    },
    {
     "cell_type": "code",
     "collapsed": false,
     "input": [
      "v_x,v_y,v_z==diff(r,t)\n",
      "v=[v_x,v_y,v_z]\n",
      "Eq(sym\"\\vec{v}\",v)"
     ],
     "language": "python",
     "metadata": {},
     "outputs": [
      {
       "latex": [
        "$$\\vec{v} = \\left[\\begin{matrix}\\operatorname{v_{x}}{\\left (t \\right )}\\\\\\operatorname{v_{y}}{\\left (t \\right )}\\\\\\operatorname{v_{z}}{\\left (t \\right )}\\end{matrix}\\right]$$"
       ],
       "metadata": {},
       "output_type": "pyout",
       "prompt_number": 61,
       "text": [
        "\\vec{v} = [v_x(t)]\n",
        "          [      ]\n",
        "          [v_y(t)]\n",
        "          [      ]\n",
        "          [v_z(t)]"
       ]
      }
     ],
     "prompt_number": 61
    },
    {
     "cell_type": "code",
     "collapsed": false,
     "input": [
      "u=*(r,v)"
     ],
     "language": "python",
     "metadata": {},
     "outputs": [
      {
       "ename": "LoadError",
       "evalue": "`*` has no method matching *(::Array{Sym,1}, ::Array{Sym,1})\nwhile loading In[63], in expression starting on line 1",
       "output_type": "pyerr",
       "traceback": [
        "`*` has no method matching *(::Array{Sym,1}, ::Array{Sym,1})\nwhile loading In[63], in expression starting on line 1",
        ""
       ]
      }
     ],
     "prompt_number": 63
    },
    {
     "cell_type": "markdown",
     "metadata": {},
     "source": [
      "Ahora, el momento lineal est\u00e1 dado por $\\vec{p}=m\\vec{v}$"
     ]
    },
    {
     "cell_type": "code",
     "collapsed": false,
     "input": [
      "p=SymMatrix(\"\\\\vec{p}\")\n",
      "p_x=SymFunction(\"p_x\")(t)\n",
      "p_y=SymFunction(\"p_y\")(t)\n",
      "p_z=SymFunction(\"p_z\")(t);"
     ],
     "language": "python",
     "metadata": {},
     "outputs": [],
     "prompt_number": 51
    },
    {
     "cell_type": "code",
     "collapsed": false,
     "input": [
      "p_x,p_y,p_z=m*v\n",
      "p=[p_x,p_y,p_z]\n",
      "Eq(sym\"\\vec{p}\",p)"
     ],
     "language": "python",
     "metadata": {},
     "outputs": [
      {
       "latex": [
        "$$\\vec{p} = \\left[\\begin{matrix}m \\operatorname{v_{x}}{\\left (t \\right )}\\\\m \\operatorname{v_{y}}{\\left (t \\right )}\\\\m \\operatorname{v_{z}}{\\left (t \\right )}\\end{matrix}\\right]$$"
       ],
       "metadata": {},
       "output_type": "pyout",
       "prompt_number": 52,
       "text": [
        "\\vec{p} = [m*v_x(t)]\n",
        "          [        ]\n",
        "          [m*v_y(t)]\n",
        "          [        ]\n",
        "          [m*v_z(t)]"
       ]
      }
     ],
     "prompt_number": 52
    },
    {
     "cell_type": "markdown",
     "metadata": {},
     "source": [
      "Debido a la interacci\u00f3n de la part\u00edcula con objetos y campos externos, la part\u00edcula puede experimentar fuerzas de distintos timpos como por ejemplo la gravitacional o la electromagn\u00e9tica. \n",
      "\n",
      "La suma vectorial de estas fuerzas ejercidas sobre la part\u00educla es la fuerza total $\\vec{F}$\n",
      "\n",
      "La mec\u00e1nica de la part\u00edcula estpa contenida en la segunda ley de Newton, que nos dice que existen marcos de referencia en la que el movimeinto de la part\u00edcula esta descrito por la siguienete ecuaci\u00f3n diferencial:"
     ]
    },
    {
     "cell_type": "markdown",
     "metadata": {},
     "source": [
      "# Ecuaci\u00f3n Diferencial que describe el movimiento de una par\u00edcula:\n",
      "\n",
      "$\\vec{F}=\\frac{d\\vec{p}}{dt}=\\dot{\\vec{p}}$"
     ]
    },
    {
     "cell_type": "code",
     "collapsed": false,
     "input": [
      "a=SymMatrix(\"\\\\vec{a}\")\n",
      "a_x=SymFunction(\"a_x\")(t)\n",
      "a_y=SymFunction(\"a_y\")(t)\n",
      "a_z=SymFunction(\"a_z\")(t);"
     ],
     "language": "python",
     "metadata": {},
     "outputs": [],
     "prompt_number": 53
    },
    {
     "cell_type": "code",
     "collapsed": false,
     "input": [
      "a_x,a_y,a_z==diff(v,t)\n",
      "a=[a_x,a_y,a_z]\n",
      "Eq(sym\"\\vec{a}\",a)"
     ],
     "language": "python",
     "metadata": {},
     "outputs": [
      {
       "latex": [
        "$$\\vec{a} = \\left[\\begin{matrix}\\operatorname{a_{x}}{\\left (t \\right )}\\\\\\operatorname{a_{y}}{\\left (t \\right )}\\\\\\operatorname{a_{z}}{\\left (t \\right )}\\end{matrix}\\right]$$"
       ],
       "metadata": {},
       "output_type": "pyout",
       "prompt_number": 54,
       "text": [
        "\\vec{a} = [a_x(t)]\n",
        "          [      ]\n",
        "          [a_y(t)]\n",
        "          [      ]\n",
        "          [a_z(t)]"
       ]
      }
     ],
     "prompt_number": 54
    },
    {
     "cell_type": "code",
     "collapsed": false,
     "input": [
      "F=diff(p,t)\n",
      "Eq(sym\"\\vec{F}\",F)"
     ],
     "language": "python",
     "metadata": {},
     "outputs": [
      {
       "latex": [
        "$$\\vec{F} = \\left[\\begin{matrix}m \\frac{d}{d t} \\operatorname{v_{x}}{\\left (t \\right )}\\\\m \\frac{d}{d t} \\operatorname{v_{y}}{\\left (t \\right )}\\\\m \\frac{d}{d t} \\operatorname{v_{z}}{\\left (t \\right )}\\end{matrix}\\right]$$"
       ],
       "metadata": {},
       "output_type": "pyout",
       "prompt_number": 55,
       "text": [
        "          [  d         ]\n",
        "\\vec{F} = [m*--(v_x(t))]\n",
        "          [  dt        ]\n",
        "          [            ]\n",
        "          [  d         ]\n",
        "          [m*--(v_y(t))]\n",
        "          [  dt        ]\n",
        "          [            ]\n",
        "          [  d         ]\n",
        "          [m*--(v_z(t))]\n",
        "          [  dt        ]"
       ]
      }
     ],
     "prompt_number": 55
    },
    {
     "cell_type": "markdown",
     "metadata": {},
     "source": [
      "En marcos de referencia donde $\\vec{p}=m\\vec{v}$ es valida se le llaman sistemas inerciales o sistemas Galileanos."
     ]
    },
    {
     "cell_type": "markdown",
     "metadata": {},
     "source": [
      "# Teorema de la conservaci\u00f3n del momento lineal de una part\u00edcula.\n",
      "\n",
      "Si\n",
      "\n",
      "$\\vec{F}=0 $  \n",
      "\n",
      "$ \\Rightarrow $    $\\dot{\\vec{p}} = 0$\n",
      "\n",
      " $ \\Rightarrow $  $\\vec{p} = cte $  \n",
      " \n",
      " Es decir,  el momento lineal  ( $\\vec{p}$ )  se conserva."
     ]
    },
    {
     "cell_type": "markdown",
     "metadata": {},
     "source": [
      "# Momento Angular"
     ]
    },
    {
     "cell_type": "markdown",
     "metadata": {},
     "source": [
      "El momento angular de una part\u00edcula alrededor de un punto O, se define como:\n",
      "\n",
      "$\\vec{L}=\\vec{r} \\times  \\vec{p}$\n",
      "\n",
      "donde $\\vec{r}$  es el radio desde el punto O hasta la part\u00edcula."
     ]
    },
    {
     "cell_type": "code",
     "collapsed": false,
     "input": [
      "L=*(r,p)"
     ],
     "language": "python",
     "metadata": {},
     "outputs": [
      {
       "ename": "LoadError",
       "evalue": "`*` has no method matching *(::Array{Sym,1}, ::Array{Sym,1})\nwhile loading In[60], in expression starting on line 1",
       "output_type": "pyerr",
       "traceback": [
        "`*` has no method matching *(::Array{Sym,1}, ::Array{Sym,1})\nwhile loading In[60], in expression starting on line 1",
        ""
       ]
      }
     ],
     "prompt_number": 60
    },
    {
     "cell_type": "code",
     "collapsed": false,
     "input": [
      "L_x,L_y,L_z=[*(r[1],p[1]),*(r[2],p[2]),*(r[2],p[2])]\n",
      "L=[L_x,L_y,L_z]"
     ],
     "language": "python",
     "metadata": {},
     "outputs": [
      {
       "latex": [
        "\\begin{bmatrix}m \\operatorname{r_{x}}{\\left (t \\right )} \\operatorname{v_{x}}{\\left (t \\right )}\\\\m \\operatorname{r_{y}}{\\left (t \\right )} \\operatorname{v_{y}}{\\left (t \\right )}\\\\m \\operatorname{r_{y}}{\\left (t \\right )} \\operatorname{v_{y}}{\\left (t \\right )}\\end{bmatrix}"
       ],
       "metadata": {},
       "output_type": "pyout",
       "prompt_number": 42,
       "text": [
        "3-element Array{Sym,1}:\n",
        " m*r_x(t)*v_x(t)\n",
        " m*r_y(t)*v_y(t)\n",
        " m*r_y(t)*v_y(t)"
       ]
      }
     ],
     "prompt_number": 42
    },
    {
     "cell_type": "markdown",
     "metadata": {},
     "source": [
      "Ahora, el momento de la Fuerza = Torca es \n",
      "\n",
      "$\\vec{N}=\\vec{r} \\times \\vec{F}$"
     ]
    },
    {
     "cell_type": "code",
     "collapsed": false,
     "input": [
      "F_x,F_y,F_z=Sym(\"F_x,F_y,F_z\")\n",
      "N=SymFunction(\"\\\\vec{N}\")\n",
      "F=SymFunction(\"\\\\vec{F}\")"
     ],
     "language": "python",
     "metadata": {},
     "outputs": [
      {
       "metadata": {},
       "output_type": "pyout",
       "prompt_number": 44,
       "text": [
        "(anonymous function)"
       ]
      }
     ],
     "prompt_number": 44
    },
    {
     "cell_type": "code",
     "collapsed": false,
     "input": [
      "F=[F_x,F_y,F_z]"
     ],
     "language": "python",
     "metadata": {},
     "outputs": [
      {
       "latex": [
        "\\begin{bmatrix}F_{x}\\\\F_{y}\\\\F_{z}\\end{bmatrix}"
       ],
       "metadata": {},
       "output_type": "pyout",
       "prompt_number": 45,
       "text": [
        "3-element Array{Sym,1}:\n",
        " F_x\n",
        " F_y\n",
        " F_z"
       ]
      }
     ],
     "prompt_number": 45
    },
    {
     "cell_type": "code",
     "collapsed": false,
     "input": [
      "N=*(r,F)"
     ],
     "language": "python",
     "metadata": {},
     "outputs": [
      {
       "ename": "LoadError",
       "evalue": "`*` has no method matching *(::Array{Sym,1}, ::Array{Sym,1})\nwhile loading In[46], in expression starting on line 1",
       "output_type": "pyerr",
       "traceback": [
        "`*` has no method matching *(::Array{Sym,1}, ::Array{Sym,1})\nwhile loading In[46], in expression starting on line 1",
        ""
       ]
      }
     ],
     "prompt_number": 46
    },
    {
     "cell_type": "code",
     "collapsed": false,
     "input": [],
     "language": "python",
     "metadata": {},
     "outputs": [],
     "prompt_number": 124
    },
    {
     "cell_type": "code",
     "collapsed": false,
     "input": [],
     "language": "python",
     "metadata": {},
     "outputs": [],
     "prompt_number": 125
    },
    {
     "cell_type": "code",
     "collapsed": false,
     "input": [],
     "language": "python",
     "metadata": {},
     "outputs": []
    }
   ],
   "metadata": {}
  }
 ]
}