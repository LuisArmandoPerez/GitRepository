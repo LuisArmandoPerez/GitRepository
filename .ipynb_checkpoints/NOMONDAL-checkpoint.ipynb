{
 "metadata": {
  "language": "Julia",
  "name": "",
  "signature": "sha256:b9dd716c8ea45d6cdb5e9c30afaeb92aa39e2502cbc0a3db9f60193010f0eddc"
 },
 "nbformat": 3,
 "nbformat_minor": 0,
 "worksheets": [
  {
   "cells": [
    {
     "cell_type": "markdown",
     "metadata": {},
     "source": [
      "#\u00d3rbitas Planetarias "
     ]
    },
    {
     "cell_type": "markdown",
     "metadata": {},
     "source": [
      "Antes qu\u00e9 nada vamos a llamar distintas librer\u00edas que nos permitir\u00e1n trabajar de manera completa."
     ]
    },
    {
     "cell_type": "code",
     "collapsed": false,
     "input": [
      "using SymPy\n",
      "using Interact\n",
      "using PyPlot\n",
      "using PyCall\n",
      "using Markdown\n",
      "@pyimport matplotlib.animation as anim "
     ],
     "language": "python",
     "metadata": {},
     "outputs": [
      {
       "html": [
        "<script charset=\"utf-8\">(function ($, undefined) {\n",
        "\n",
        "    function createElem(tag, attr, content) {\n",
        "\t// TODO: remove jQuery dependency\n",
        "\tvar el = $(\"<\" + tag + \"/>\").attr(attr);\n",
        "\tif (content) {\n",
        "\t    el.append(content);\n",
        "\t}\n",
        "\treturn el[0];\n",
        "    }\n",
        "\n",
        "    // A widget must expose an id field which identifies it to the backend,\n",
        "    // an elem attribute which is will be added to the DOM, and\n",
        "    // a getState() method which returns the value to be sent to the backend\n",
        "    // a sendUpdate() method which sends its current value to the backend\n",
        "    var Widget = {\n",
        "\tid: undefined,\n",
        "\telem: undefined,\n",
        "\tlabel: undefined,\n",
        "\tgetState: function () {\n",
        "\t    return this.elem.value;\n",
        "\t},\n",
        "\tsendUpdate: undefined\n",
        "    };\n",
        "\n",
        "    var Slider = function (typ, id, init) {\n",
        "\tvar attr = { type:  \"range\",\n",
        "\t\t     value: init.value,\n",
        "\t\t     min:   init.min,\n",
        "\t\t     max:   init.max,\n",
        "\t\t     step:  init.step },\n",
        "\t    elem = createElem(\"input\", attr),\n",
        "\t    self = this;\n",
        "\n",
        "\telem.onchange = function () {\n",
        "\t    self.sendUpdate();\n",
        "\t}\n",
        "\n",
        "\tthis.id = id;\n",
        "\tthis.elem = elem;\n",
        "\tthis.label = init.label;\n",
        "\n",
        "\tInputWidgets.commInitializer(this); // Initialize communication\n",
        "    }\n",
        "    Slider.prototype = Widget;\n",
        "\n",
        "    var Checkbox = function (typ, id, init) {\n",
        "\tvar attr = { type: \"checkbox\",\n",
        "\t\t     checked: init.value },\n",
        "\t    elem = createElem(\"input\", attr),\n",
        "\t    self = this;\n",
        "\n",
        "\tthis.getState = function () {\n",
        "\t    return elem.checked;\n",
        "\t}\n",
        "\telem.onchange = function () {\n",
        "\t    self.sendUpdate();\n",
        "\t}\n",
        "\n",
        "\tthis.id = id;\n",
        "\tthis.elem = elem;\n",
        "\tthis.label = init.label;\n",
        "\n",
        "\tInputWidgets.commInitializer(this);\n",
        "    }\n",
        "    Checkbox.prototype = Widget;\n",
        "\n",
        "    var Button = function (typ, id, init) {\n",
        "\tvar attr = { type:    \"button\",\n",
        "\t\t     value:   init.label },\n",
        "\t    elem = createElem(\"input\", attr),\n",
        "\t    self = this;\n",
        "\tthis.getState = function () {\n",
        "\t    return null;\n",
        "\t}\n",
        "\telem.onclick = function () {\n",
        "\t    self.sendUpdate();\n",
        "\t}\n",
        "\n",
        "\tthis.id = id;\n",
        "\tthis.elem = elem;\n",
        "\tthis.label = init.label;\n",
        "\n",
        "\tInputWidgets.commInitializer(this);\n",
        "    }\n",
        "    Button.prototype = Widget;\n",
        "\n",
        "    var Text = function (typ, id, init) {\n",
        "\tvar attr = { type:  \"text\",\n",
        "\t\t     placeholder: init.label,\n",
        "\t\t     value: init.value },\n",
        "\t    elem = createElem(\"input\", attr),\n",
        "\t    self = this;\n",
        "\tthis.getState = function () {\n",
        "\t    return elem.value;\n",
        "\t}\n",
        "\telem.onkeyup = function () {\n",
        "\t    self.sendUpdate();\n",
        "\t}\n",
        "\n",
        "\tthis.id = id;\n",
        "\tthis.elem = elem;\n",
        "\tthis.label = init.label;\n",
        "\n",
        "\tInputWidgets.commInitializer(this);\n",
        "    }\n",
        "    Text.prototype = Widget;\n",
        "\n",
        "    var Textarea = function (typ, id, init) {\n",
        "\tvar attr = { placeholder: init.label },\n",
        "\t    elem = createElem(\"textarea\", attr, init.value),\n",
        "\t    self = this;\n",
        "\tthis.getState = function () {\n",
        "\t    return elem.value;\n",
        "\t}\n",
        "\telem.onchange = function () {\n",
        "\t    self.sendUpdate();\n",
        "\t}\n",
        "\n",
        "\tthis.id = id;\n",
        "\tthis.elem = elem;\n",
        "\tthis.label = init.label;\n",
        "\n",
        "\tInputWidgets.commInitializer(this);\n",
        "    }\n",
        "    Textarea.prototype = Widget;\n",
        "\n",
        "    // RadioButtons\n",
        "    // Dropdown\n",
        "    // HTML\n",
        "    // Latex\n",
        "\n",
        "    var InputWidgets = {\n",
        "\tSlider: Slider,\n",
        "\tCheckbox: Checkbox,\n",
        "\tButton: Button,\n",
        "\tText: Text,\n",
        "\tTextarea: Textarea,\n",
        "\tdebug: false,\n",
        "\tlog: function () {\n",
        "\t    if (InputWidgets.debug) {\n",
        "\t\tconsole.log.apply(console, arguments);\n",
        "\t    }\n",
        "\t},\n",
        "\t// a central way to initalize communication\n",
        "\t// for widgets.\n",
        "\tcommInitializer: function (widget) {\n",
        "\t    widget.sendUpdate = function () {};\n",
        "\t}\n",
        "    };\n",
        "\n",
        "    window.InputWidgets = InputWidgets;\n",
        "\n",
        "})(jQuery, undefined);\n",
        "</script>"
       ],
       "metadata": {},
       "output_type": "display_data"
      },
      {
       "output_type": "stream",
       "stream": "stderr",
       "text": [
        "Warning: imported binding for transpose overwritten in module __anon__\n"
       ]
      },
      {
       "html": [
        "<script charset=\"utf-8\">(function (IPython, $, _, MathJax, Widgets) {\n",
        "    $.event.special.destroyed = {\n",
        "\tremove: function(o) {\n",
        "\t    if (o.handler) {\n",
        "\t\to.handler.apply(this, arguments)\n",
        "\t    }\n",
        "\t}\n",
        "    }\n",
        "\n",
        "    $(document).ready(function() {\n",
        "\tWidgets.debug = false; // log messages etc in console.\n",
        "\tfunction initComm(evt, data) {\n",
        "\t    var comm_manager = data.kernel.comm_manager;\n",
        "\t    comm_manager.register_target(\"Signal\", function (comm) {\n",
        "\t\tcomm.on_msg(function (msg) {\n",
        "\t\t    //Widgets.log(\"message received\", msg);\n",
        "\t\t    var val = msg.content.data.value;\n",
        "\t\t    $(\".signal-\" + comm.comm_id).each(function() {\n",
        "\t\t\tvar self = this;\n",
        "\t\t\tvar type = $(this).data(\"type\");\n",
        "\t\t\tif (val[type]) {\n",
        "\t\t\t    $(self).empty();\n",
        "\t\t\t    var selector = $(\"<div/>\");\n",
        "\t\t\t    var oa = new IPython.OutputArea(_.extend(selector, {\n",
        "\t\t\t\tselector: selector,\n",
        "\t\t\t\tprompt_area: true,\n",
        "\t\t\t\tevents: IPython.events,\n",
        "\t\t\t\tkeyboard_manager: IPython.keyboard_manager\n",
        "\t\t\t    })); // Hack to work with IPython 2.1.0\n",
        "\t\t\t    var toinsert = IPython.OutputArea.append_map[type].apply(\n",
        "\t\t\t\toa, [val[type], {}, selector]\n",
        "\t\t\t    );\n",
        "\t\t\t    if (type === \"text/latex\" && MathJax) {\n",
        "\t\t\t\tMathJax.Hub.Queue([\"Typeset\", MathJax.Hub, toinsert.get(0)]);\n",
        "\t\t\t    }\n",
        "\n",
        "\t\t\t    $(self).append(toinsert.contents());\n",
        "\t\t\t    selector.remove();\n",
        "\t\t\t}\n",
        "\t\t    });\n",
        "\t\t    delete val;\n",
        "\t\t    delete msg.content.data.value;\n",
        "\t\t});\n",
        "\t    });\n",
        "\n",
        "\t    // coordingate with Comm and redraw Signals\n",
        "\t    // XXX: Test using Reactive here to improve performance\n",
        "\t    $([IPython.events]).on(\n",
        "\t\t'output_appended.OutputArea', function (event, type, value, md, toinsert) {\n",
        "\t\t    if (md && md.reactive) {\n",
        "\t\t\t// console.log(md.comm_id);\n",
        "\t\t\ttoinsert.addClass(\"signal-\" + md.comm_id);\n",
        "\t\t\ttoinsert.data(\"type\", type);\n",
        "\t\t\t// Signal back indicating the mimetype required\n",
        "\t\t\tvar comm_manager = IPython.notebook.kernel.comm_manager;\n",
        "\t\t\tvar comm = comm_manager.comms[md.comm_id];\n",
        "\t\t\tcomm.send({action: \"subscribe_mime\",\n",
        "\t\t\t\t   mime: type});\n",
        "\t\t\ttoinsert.bind(\"destroyed\", function() {\n",
        "\t\t\t    comm.send({action: \"unsubscribe_mime\",\n",
        "\t\t\t\t       mime: type});\n",
        "\t\t\t});\n",
        "\t\t    }\n",
        "\t    });\n",
        "\n",
        "\t    // Set up communication for Widgets\n",
        "\t    Widgets.commInitializer = function (widget) {\n",
        "\t\tvar comm = comm_manager.new_comm(\n",
        "\t\t    \"InputWidget\", {widget_id: widget.id}\n",
        "\t\t);\n",
        "\t\twidget.sendUpdate = function () {\n",
        "\t\t    // `this` is a widget here.\n",
        "\t\t    // TODO: I have a feeling there's some\n",
        "\t\t    //       IPython bookkeeping to be done here.\n",
        "\t\t    // Widgets.log(\"State changed\", this, this.getState());\n",
        "\t\t    comm.send({value: this.getState()});\n",
        "\t\t}\n",
        "\t    };\n",
        "\t}\n",
        "\n",
        "\ttry {\n",
        "\t    // try to initialize right away. otherwise, wait on the status_started event.\n",
        "\t    initComm(undefined, IPython.notebook);\n",
        "\t} catch (e) {\n",
        "\t    $([IPython.events]).on('status_started.Kernel', initComm);\n",
        "\t}\n",
        "    });\n",
        "})(IPython, jQuery, _, MathJax, InputWidgets);\n",
        "</script>"
       ],
       "metadata": {},
       "output_type": "display_data"
      }
     ],
     "prompt_number": 4
    },
    {
     "cell_type": "markdown",
     "metadata": {},
     "source": [
      "Ahora vamos a nombrar todas nuestras variables, constantes y funciones como simbolos. "
     ]
    },
    {
     "cell_type": "code",
     "collapsed": false,
     "input": [
      "ti,dt,tf,Ri,dRi,ddrN,\u03b8i,d\u03b8i=Sym(\"t_i,\\\\Delta{t},t_f,R_i,\\\\dot{R}_i,\\\\dot{r}_N,\\\\theta,\\\\dot{\\\\theta}_i\");\n",
      "RN,dRN,L,tf,Ri,dRi,ddrN,\u03b8i,d\u03b8i=Sym(\"RN,dRN,L,t_f,R_i,\\\\dot{R}_i,\\\\dot{r}_N,\\\\theta,\\\\dot{\\\\theta}_i\");\n",
      "x1=SymFunction(\"x1\")\n",
      "x2=SymFunction(\"x2\")\n",
      "y1=SymFunction(\"y1\")\n",
      "y2=SymFunction(\"y2\")\n",
      "theta1=SymFunction(\"theta1\")\n",
      "dtheta1=SymFunction(\"dtheta1\")\n",
      "dtheta2=SymFunction(\"dtheta2\")\n",
      "theta2=SymFunction(\"theta2\")\n",
      "ddtheta1=SymFunction(\"ddtheta1\")\n",
      "ddtheta2=SymFunction(\"ddtheta2\");\n"
     ],
     "language": "python",
     "metadata": {},
     "outputs": []
    },
    {
     "cell_type": "markdown",
     "metadata": {},
     "source": [
      "Donde:\n",
      "\n",
      "ti = $t_i$ $\\rightarrow$ Tiempo Final.\n",
      "\n",
      "dt = $\\Delta{t}$ $\\rightarrow$ Paso del tiempo.\n",
      "\n",
      "tf = $t_f$ $\\rightarrow$ Tiempo Final.\n",
      "\n",
      "Ri = $R_i$ $\\rightarrow$ Posici\u00f3n Radial Inicial\n",
      "\n",
      "dRi = $\\dot{R}_i$ $\\rightarrow$ Velocidad Radial\n",
      "\n",
      "ddrN = $\\ddot{r}_N$ $\\rightarrow$ Aceleraci\u00f3n Newtoniana \n",
      "\n",
      "$\\theta$i = $\\theta_i$  $\\rightarrow$ Posici\u00f3n Angular\n",
      "\n",
      "d$\\theta$i = $\\dot{\\theta}_i$$\\rightarrow$ Velocidad Angular\n",
      "\n",
      "L= $L$ $\\rightarrow$ Norma del Momento Nngular\n",
      "\n",
      "ARN $\\rightarrow$ Arreglo Radial Newtoniana (Contiene los valores de la distancia radial y la velocidad radial en funci\u00f3n del tiempo para el caso Newtoniano) ARN = [tiempos, distancia radial, velocidad radial] = [t, RN, dRN]\n",
      "\n",
      "RN = $RN$ $\\rightarrow$ Arreglo de las posiciones en funcion del tiempo para el caso Newtoniano.\n",
      "\n",
      "\n",
      "\n",
      "\n",
      "\n",
      "R $\\rightarrow$ "
     ]
    },
    {
     "cell_type": "markdown",
     "metadata": {},
     "source": []
    },
    {
     "cell_type": "markdown",
     "metadata": {},
     "source": [
      "La conservaci\u00f3n de la energ\u00eda y del momento nos permiten integrar\n",
      "Ahora se integran las  ecuacion de Newton para obtener las ecuaciones de movimiento."
     ]
    },
    {
     "cell_type": "code",
     "collapsed": false,
     "input": [],
     "language": "python",
     "metadata": {},
     "outputs": []
    },
    {
     "cell_type": "markdown",
     "metadata": {},
     "source": [
      "Una vez obtenidas las ecuaciones vamos a definirlas como funciones de Julia."
     ]
    },
    {
     "cell_type": "code",
     "collapsed": false,
     "input": [],
     "language": "python",
     "metadata": {},
     "outputs": [],
     "prompt_number": 61
    },
    {
     "cell_type": "markdown",
     "metadata": {},
     "source": [
      "Definimos nuestras funciones a partir de las obtenidas."
     ]
    },
    {
     "cell_type": "code",
     "collapsed": false,
     "input": [],
     "language": "python",
     "metadata": {},
     "outputs": [],
     "prompt_number": 62
    },
    {
     "cell_type": "markdown",
     "metadata": {},
     "source": [
      "Ahora vamos a generar una funci\u00f3n de Euler Cromer qu\u00e9 nos permita obtener un arreglo de los tiempos, los radios, las posiciones angulares y las velocidades angulares. "
     ]
    },
    {
     "cell_type": "code",
     "collapsed": false,
     "input": [
      "function oN(G,m,M,ti,dt,tf,Ri,dRi,\u03b8i,d\u03b8i) \n",
      "    RN = Vector{Float64}[]\n",
      "    dRN = Vector{Float64}[]\n",
      "    \u03b8N = Vector{Float64}[]\n",
      "    d\u03b8N = Vector{Float64}[]\n",
      "    XS = Vector{Float64}[]\n",
      "    YS = Vector{Float64}[]\n",
      "    \n",
      "    t = Float64[]\n",
      "    \n",
      "    for i in ti:dt:tf\n",
      "        \n",
      "        \n",
      "        dR_nueva = -G*M*dt/Ri^2         \n",
      "        R_nueva = Ri + dRi*dt      \n",
      "        d\u03b8_nueva=-2*m*Ri*dRi*sin(\u03b8i)*dt/m*Ri^3        \n",
      "        \u03b8_nueva=Ri*m*dRi*sin(\u03b8i)*dt/m*Ri^2                     \n",
      "        \n",
      "        x=Ri.*cos(\u03b8i)\n",
      "        y=Ri.*sin(\u03b8i)\n",
      "            \n",
      "        Ri = R_nueva\n",
      "        dRi = dR_nueva\n",
      "        \u03b8i = \u03b8_nueva\n",
      "        d\u03b8i=d\u03b8_nueva\n",
      "        \n",
      "        push!(t,i)\n",
      "        push!(RN,[Ri])\n",
      "        push!(dRN,[dRi])\n",
      "        push!(\u03b8N,[\u03b8i])\n",
      "        push!(d\u03b8N,[d\u03b8i])\n",
      "        push!(XS,[x])\n",
      "        push!(YS,[y])\n",
      "        \n",
      "end\n",
      "        \n",
      "    \n",
      "    t,hcat(RN...)',hcat(dRN...)',hcat(\u03b8N...)',hcat(d\u03b8N...)',hcat(XS...)',hcat(YS...)'\n",
      "end"
     ],
     "language": "python",
     "metadata": {},
     "outputs": []
    },
    {
     "cell_type": "markdown",
     "metadata": {},
     "source": [
      "Generamos un arreglo qu\u00e9 contenga los valores de ARN=[1,2,3,4,5,6,7]\n",
      "\n",
      "[1]= tiempos\n",
      "\n",
      "[2]= Posici\u00f3nes Radiales\n",
      "\n",
      "[3]= Velocidades Radiales\n",
      "\n",
      "[4]= Posici\u00f3nes Angulars\n",
      "\n",
      "[5]= Velocidades Angulares\n",
      "\n",
      "[6]= Componentes X de la \u00d3rbita\n",
      "\n",
      "[7]= Componentes Y de la \u00d3rbita"
     ]
    },
    {
     "cell_type": "code",
     "collapsed": false,
     "input": [
      "ARN=oN(1,1,3,0,1,150,1,2,\u03c0,1);"
     ],
     "language": "python",
     "metadata": {},
     "outputs": [],
     "prompt_number": 5
    },
    {
     "cell_type": "code",
     "collapsed": false,
     "input": [],
     "language": "python",
     "metadata": {},
     "outputs": []
    },
    {
     "cell_type": "code",
     "collapsed": false,
     "input": [
      "ARN[4]"
     ],
     "language": "python",
     "metadata": {},
     "outputs": [
      {
       "metadata": {},
       "output_type": "pyout",
       "prompt_number": 4,
       "text": [
        "151x1 Array{Float64,2}:\n",
        "   2.44929e-16\n",
        "  -1.98393e-14\n",
        "   0.0        \n",
        " NaN          \n",
        " NaN          \n",
        " NaN          \n",
        " NaN          \n",
        " NaN          \n",
        " NaN          \n",
        " NaN          \n",
        " NaN          \n",
        " NaN          \n",
        " NaN          \n",
        "   \u22ee          \n",
        " NaN          \n",
        " NaN          \n",
        " NaN          \n",
        " NaN          \n",
        " NaN          \n",
        " NaN          \n",
        " NaN          \n",
        " NaN          \n",
        " NaN          \n",
        " NaN          \n",
        " NaN          \n",
        " NaN          "
       ]
      }
     ],
     "prompt_number": 4
    },
    {
     "cell_type": "code",
     "collapsed": false,
     "input": [
      "  xs=[x(\u03b8)=R.*cos(\u03b8)-r.*sin(\u03b8)  for \u03b8 in ARN[4], r in ARN[2]]"
     ],
     "language": "python",
     "metadata": {},
     "outputs": [
      {
       "metadata": {},
       "output_type": "pyout",
       "prompt_number": 62,
       "text": [
        "151x151 Array{Function,2}:\n",
        " x  x  x  x  x  x  x  x  x  x  x  x  x  \u2026  x  x  x  x  x  x  x  x  x  x  x  x\n",
        " x  x  x  x  x  x  x  x  x  x  x  x  x     x  x  x  x  x  x  x  x  x  x  x  x\n",
        " x  x  x  x  x  x  x  x  x  x  x  x  x     x  x  x  x  x  x  x  x  x  x  x  x\n",
        " x  x  x  x  x  x  x  x  x  x  x  x  x     x  x  x  x  x  x  x  x  x  x  x  x\n",
        " x  x  x  x  x  x  x  x  x  x  x  x  x     x  x  x  x  x  x  x  x  x  x  x  x\n",
        " x  x  x  x  x  x  x  x  x  x  x  x  x  \u2026  x  x  x  x  x  x  x  x  x  x  x  x\n",
        " x  x  x  x  x  x  x  x  x  x  x  x  x     x  x  x  x  x  x  x  x  x  x  x  x\n",
        " x  x  x  x  x  x  x  x  x  x  x  x  x     x  x  x  x  x  x  x  x  x  x  x  x\n",
        " x  x  x  x  x  x  x  x  x  x  x  x  x     x  x  x  x  x  x  x  x  x  x  x  x\n",
        " x  x  x  x  x  x  x  x  x  x  x  x  x     x  x  x  x  x  x  x  x  x  x  x  x\n",
        " x  x  x  x  x  x  x  x  x  x  x  x  x  \u2026  x  x  x  x  x  x  x  x  x  x  x  x\n",
        " x  x  x  x  x  x  x  x  x  x  x  x  x     x  x  x  x  x  x  x  x  x  x  x  x\n",
        " x  x  x  x  x  x  x  x  x  x  x  x  x     x  x  x  x  x  x  x  x  x  x  x  x\n",
        " \u22ee              \u22ee              \u22ee        \u22f1     \u22ee              \u22ee              \u22ee\n",
        " x  x  x  x  x  x  x  x  x  x  x  x  x     x  x  x  x  x  x  x  x  x  x  x  x\n",
        " x  x  x  x  x  x  x  x  x  x  x  x  x  \u2026  x  x  x  x  x  x  x  x  x  x  x  x\n",
        " x  x  x  x  x  x  x  x  x  x  x  x  x     x  x  x  x  x  x  x  x  x  x  x  x\n",
        " x  x  x  x  x  x  x  x  x  x  x  x  x     x  x  x  x  x  x  x  x  x  x  x  x\n",
        " x  x  x  x  x  x  x  x  x  x  x  x  x     x  x  x  x  x  x  x  x  x  x  x  x\n",
        " x  x  x  x  x  x  x  x  x  x  x  x  x     x  x  x  x  x  x  x  x  x  x  x  x\n",
        " x  x  x  x  x  x  x  x  x  x  x  x  x  \u2026  x  x  x  x  x  x  x  x  x  x  x  x\n",
        " x  x  x  x  x  x  x  x  x  x  x  x  x     x  x  x  x  x  x  x  x  x  x  x  x\n",
        " x  x  x  x  x  x  x  x  x  x  x  x  x     x  x  x  x  x  x  x  x  x  x  x  x\n",
        " x  x  x  x  x  x  x  x  x  x  x  x  x     x  x  x  x  x  x  x  x  x  x  x  x\n",
        " x  x  x  x  x  x  x  x  x  x  x  x  x     x  x  x  x  x  x  x  x  x  x  x  x\n",
        " x  x  x  x  x  x  x  x  x  x  x  x  x  \u2026  x  x  x  x  x  x  x  x  x  x  x  x"
       ]
      }
     ],
     "prompt_number": 62
    },
    {
     "cell_type": "code",
     "collapsed": false,
     "input": [
      "\n",
      "    xs=[x(\u03b8)=R.*cos(\u03b8)-r.*sin(\u03b8)  for \u03b8 in ARN[4], r in ARN[2]]\n",
      "    y(\u03b8)=r.*sin(\u03b8)+r.*cos(\u03b8)\n",
      "    xs=[x(\u03b8) for \u03b8 in ARN[4], r in ARN[2]]\n",
      "    ys=[y(\u03b8) for \u03b8 in ARN[4], r in ARN[2]]\n",
      "    xs, ys    \n",
      "end;"
     ],
     "language": "python",
     "metadata": {},
     "outputs": [
      {
       "ename": "LoadError",
       "evalue": "r not defined\nwhile loading In[59], in expression starting on line 4",
       "output_type": "pyerr",
       "traceback": [
        "r not defined\nwhile loading In[59], in expression starting on line 4",
        "",
        " in anonymous at no file"
       ]
      }
     ],
     "prompt_number": 59
    },
    {
     "cell_type": "code",
     "collapsed": false,
     "input": [
      "xs,ys=pm(6,3);"
     ],
     "language": "python",
     "metadata": {},
     "outputs": [],
     "prompt_number": 57
    },
    {
     "cell_type": "code",
     "collapsed": false,
     "input": [
      "ys"
     ],
     "language": "python",
     "metadata": {},
     "outputs": [
      {
       "metadata": {},
       "output_type": "pyout",
       "prompt_number": 58,
       "text": [
        "151x151 Array{Any,2}:\n",
        "   3.0    3.0    3.0    3.0    3.0  \u2026    3.0    3.0    3.0    3.0    3.0\n",
        "   3.0    3.0    3.0    3.0    3.0       3.0    3.0    3.0    3.0    3.0\n",
        "   3.0    3.0    3.0    3.0    3.0       3.0    3.0    3.0    3.0    3.0\n",
        " NaN    NaN    NaN    NaN    NaN       NaN    NaN    NaN    NaN    NaN  \n",
        " NaN    NaN    NaN    NaN    NaN       NaN    NaN    NaN    NaN    NaN  \n",
        " NaN    NaN    NaN    NaN    NaN    \u2026  NaN    NaN    NaN    NaN    NaN  \n",
        " NaN    NaN    NaN    NaN    NaN       NaN    NaN    NaN    NaN    NaN  \n",
        " NaN    NaN    NaN    NaN    NaN       NaN    NaN    NaN    NaN    NaN  \n",
        " NaN    NaN    NaN    NaN    NaN       NaN    NaN    NaN    NaN    NaN  \n",
        " NaN    NaN    NaN    NaN    NaN       NaN    NaN    NaN    NaN    NaN  \n",
        " NaN    NaN    NaN    NaN    NaN    \u2026  NaN    NaN    NaN    NaN    NaN  \n",
        " NaN    NaN    NaN    NaN    NaN       NaN    NaN    NaN    NaN    NaN  \n",
        " NaN    NaN    NaN    NaN    NaN       NaN    NaN    NaN    NaN    NaN  \n",
        "   \u22ee                                \u22f1                                \u22ee  \n",
        " NaN    NaN    NaN    NaN    NaN       NaN    NaN    NaN    NaN    NaN  \n",
        " NaN    NaN    NaN    NaN    NaN    \u2026  NaN    NaN    NaN    NaN    NaN  \n",
        " NaN    NaN    NaN    NaN    NaN       NaN    NaN    NaN    NaN    NaN  \n",
        " NaN    NaN    NaN    NaN    NaN       NaN    NaN    NaN    NaN    NaN  \n",
        " NaN    NaN    NaN    NaN    NaN       NaN    NaN    NaN    NaN    NaN  \n",
        " NaN    NaN    NaN    NaN    NaN       NaN    NaN    NaN    NaN    NaN  \n",
        " NaN    NaN    NaN    NaN    NaN    \u2026  NaN    NaN    NaN    NaN    NaN  \n",
        " NaN    NaN    NaN    NaN    NaN       NaN    NaN    NaN    NaN    NaN  \n",
        " NaN    NaN    NaN    NaN    NaN       NaN    NaN    NaN    NaN    NaN  \n",
        " NaN    NaN    NaN    NaN    NaN       NaN    NaN    NaN    NaN    NaN  \n",
        " NaN    NaN    NaN    NaN    NaN       NaN    NaN    NaN    NaN    NaN  \n",
        " NaN    NaN    NaN    NaN    NaN    \u2026  NaN    NaN    NaN    NaN    NaN  "
       ]
      }
     ],
     "prompt_number": 58
    },
    {
     "cell_type": "code",
     "collapsed": false,
     "input": [
      "xs,ys=pm(6,6);\n",
      "plot(xs,ys)\n",
      "xlabel(L\"$x(t)$\")\n",
      "ylabel(L\"$y(t)$\")"
     ],
     "language": "python",
     "metadata": {},
     "outputs": [
      {
       "metadata": {},
       "output_type": "display_data",
       "png": "[encoded data removed]",
       "text": [
        "Figure(PyObject <matplotlib.figure.Figure object at 0xac8099cc>)"
       ]
      },
      {
       "metadata": {},
       "output_type": "pyout",
       "prompt_number": 51,
       "text": [
        "PyObject <matplotlib.text.Text object at 0xace2862c>"
       ]
      }
     ],
     "prompt_number": 51
    },
    {
     "cell_type": "markdown",
     "metadata": {},
     "source": [
      "Graficamos en un plano carteciano la \u00f3rbita."
     ]
    },
    {
     "cell_type": "code",
     "collapsed": false,
     "input": [
      "plot(ARN[6],ARN[7])    "
     ],
     "language": "python",
     "metadata": {},
     "outputs": [
      {
       "metadata": {},
       "output_type": "display_data",
       "png": "[encoded data removed]",
       "text": [
        "Figure(PyObject <matplotlib.figure.Figure object at 0xae25ee4c>)"
       ]
      },
      {
       "metadata": {},
       "output_type": "pyout",
       "prompt_number": 16,
       "text": [
        "1-element Array{Any,1}:\n",
        " PyObject <matplotlib.lines.Line2D object at 0xadef1fcc>"
       ]
      }
     ],
     "prompt_number": 16
    },
    {
     "cell_type": "markdown",
     "metadata": {},
     "source": [
      "Ahora animamos el movimiento planetario."
     ]
    },
    {
     "cell_type": "code",
     "collapsed": false,
     "input": [
      "fig = figure()\n",
      "ax = plt.axes(xlim=(-200, 200), ylim=(-200, 200))\n",
      "global line1 = ax[:plot]([], [], \"bo\", lw=2)[1]\n",
      "global line2 = ax[:plot]([], [], \"yo\", lw=2)[1]\n",
      "\n",
      "function init()\n",
      "    global line1\n",
      "    global line2\n",
      "\n",
      "    line1[:set_data]([], [])\n",
      "     line2[:set_data]([], [])\n",
      "\n",
      "        return ([line1, line2],None)\n",
      "   \n",
      "end\n",
      "\n",
      "  XS=[r.*cos(\u03b8)-r.*sin(\u03b8)  for r in ARN[2], \u03b8 in ARN[4]];\n",
      "  YS=[r.*sin(\u03b8)+r.*cos(\u03b8)  for r in ARN[2], \u03b8 in ARN[4]];\n",
      "\n",
      "function animate(i)\n",
      "    global line1\n",
      "    global line2\n",
      "    line1[:set_data]([x[i+1]],[y[i+1]])\n",
      "    line2[:set_data](0,0)\n",
      "    return ([line1, line2],None)\n",
      "\n",
      "end"
     ],
     "language": "python",
     "metadata": {},
     "outputs": [
      {
       "metadata": {},
       "output_type": "display_data",
       "png": "[encoded data removed]",
       "text": [
        "Figure(PyObject <matplotlib.figure.Figure object at 0xae43712c>)"
       ]
      },
      {
       "metadata": {},
       "output_type": "pyout",
       "prompt_number": 6,
       "text": [
        "animate (generic function with 1 method)"
       ]
      }
     ],
     "prompt_number": 6
    },
    {
     "cell_type": "code",
     "collapsed": false,
     "input": [
      "myanim = anim.FuncAnimation(fig, animate, init_func=init, frames=100, interval=20, blit=true);\n",
      "myanim[:save](\"oN.gif\", writer=\"imagemagick\", fps=30);"
     ],
     "language": "python",
     "metadata": {},
     "outputs": [
      {
       "ename": "LoadError",
       "evalue": "PyError (PyObject_Call) <type 'exceptions.RuntimeError'>\nRuntimeError('Julia exception: UndefVarError(:x)',)\n  File \"/home/a9lara/anaconda/lib/python2.7/site-packages/matplotlib/animation.py\", line 751, in save\n    anim._draw_next_frame(d, blit=False)\n  File \"/home/a9lara/anaconda/lib/python2.7/site-packages/matplotlib/animation.py\", line 788, in _draw_next_frame\n    self._draw_frame(framedata)\n  File \"/home/a9lara/anaconda/lib/python2.7/site-packages/matplotlib/animation.py\", line 1091, in _draw_frame\n    self._drawn_artists = self._func(framedata, *self._args)\n\nwhile loading In[7], in expression starting on line 2",
       "output_type": "pyerr",
       "traceback": [
        "PyError (PyObject_Call) <type 'exceptions.RuntimeError'>\nRuntimeError('Julia exception: UndefVarError(:x)',)\n  File \"/home/a9lara/anaconda/lib/python2.7/site-packages/matplotlib/animation.py\", line 751, in save\n    anim._draw_next_frame(d, blit=False)\n  File \"/home/a9lara/anaconda/lib/python2.7/site-packages/matplotlib/animation.py\", line 788, in _draw_next_frame\n    self._draw_frame(framedata)\n  File \"/home/a9lara/anaconda/lib/python2.7/site-packages/matplotlib/animation.py\", line 1091, in _draw_frame\n    self._drawn_artists = self._func(framedata, *self._args)\n\nwhile loading In[7], in expression starting on line 2",
        "",
        " in pyerr_check at /home/a9lara/.julia/v0.4/PyCall/src/exception.jl:58",
        " in pycall at /home/a9lara/.julia/v0.4/PyCall/src/PyCall.jl:85",
        " in fn at /home/a9lara/.julia/v0.4/PyCall/src/conversions.jl:181"
       ]
      }
     ],
     "prompt_number": 7
    },
    {
     "cell_type": "code",
     "collapsed": false,
     "input": [
      "plot([6*cos(\u03b8ss),6*sin(\u03b8ss)) for \u03b8ss in [0:\u03c0/360:2*\u03c0]])"
     ],
     "language": "python",
     "metadata": {},
     "outputs": [
      {
       "ename": "LoadError",
       "evalue": "syntax: missing separator in array expression\nwhile loading In[21], in expression starting on line 1",
       "output_type": "pyerr",
       "traceback": [
        "syntax: missing separator in array expression\nwhile loading In[21], in expression starting on line 1",
        ""
       ]
      }
     ],
     "prompt_number": 21
    },
    {
     "cell_type": "code",
     "collapsed": false,
     "input": [
      "function pm(\u03b8)\n",
      "    x(\u03b8)=r*cos(\u03b8)  \n",
      "    y(\u03b8)=r*sin(\u03b8)\n",
      "    r=2\n",
      "    \u03b8s=[0:\u03c0/360:2*\u03c0]\n",
      "    xs=[x(\u03b8) for \u03b8 in \u03b8s]\n",
      "    ys=[y(\u03b8) for \u03b8 in \u03b8s]\n",
      "    push\n",
      "    xs, ys    \n",
      "end;"
     ],
     "language": "python",
     "metadata": {},
     "outputs": [],
     "prompt_number": 31
    },
    {
     "cell_type": "code",
     "collapsed": false,
     "input": [
      "xs,ys=pm(888);"
     ],
     "language": "python",
     "metadata": {},
     "outputs": [],
     "prompt_number": 36
    },
    {
     "cell_type": "code",
     "collapsed": false,
     "input": [
      "xs,ys=pm(888);\n",
      "plot(xs,ys)\n",
      "xlabel(L\"$x(t)$\")\n",
      "ylabel(L\"$y(t)$\")"
     ],
     "language": "python",
     "metadata": {},
     "outputs": [
      {
       "metadata": {},
       "output_type": "display_data",
       "png": "[encoded data removed]",
       "text": [
        "Figure(PyObject <matplotlib.figure.Figure object at 0xacd5652c>)"
       ]
      },
      {
       "metadata": {},
       "output_type": "pyout",
       "prompt_number": 37,
       "text": [
        "PyObject <matplotlib.text.Text object at 0xacd091ec>"
       ]
      }
     ],
     "prompt_number": 37
    },
    {
     "cell_type": "code",
     "collapsed": false,
     "input": [],
     "language": "python",
     "metadata": {},
     "outputs": []
    }
   ],
   "metadata": {}
  }
 ]
}