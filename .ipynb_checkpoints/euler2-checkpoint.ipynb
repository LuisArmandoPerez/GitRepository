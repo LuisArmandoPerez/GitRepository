{
 "metadata": {
  "language": "Julia",
  "name": "",
  "signature": "sha256:d47b1bfe8eadedf5d50b6103be1f90bc5efeafa3220a1ec2a59201a1a1232abf"
 },
 "nbformat": 3,
 "nbformat_minor": 0,
 "worksheets": [
  {
   "cells": [
    {
     "cell_type": "code",
     "collapsed": false,
     "input": [
      "using SymPy\n",
      "using Interact\n",
      "using PyPlot\n",
      "using PyCall\n",
      "using Markdown\n",
      "using ODE\n",
      "@pyimport matplotlib.animation as anim "
     ],
     "language": "python",
     "metadata": {},
     "outputs": [],
     "prompt_number": 28
    },
    {
     "cell_type": "code",
     "collapsed": false,
     "input": [
      "Msol=6054794.521\n",
      "Mmercurio=1.0\n",
      "Mvenus=14.606\n",
      "Mtierra=17.921\n",
      "Mmarte=1.918\n",
      "Mjupiter=5698.924\n",
      "Msaturno=1704.301\n",
      "Murano=259.857\n",
      "Mneptuno=308.244\n",
      "Mpluton=0.179\n",
      "\n",
      "Vsol=[0.0,0,0]\n",
      "Vmercurio=[0,26.071,0]\n",
      "Vvenus=[0,19.054,0]\n",
      "Vtierra=[0,14.194,0]\n",
      "Vmarte=[0,13.161,0]\n",
      "Vjupiter=[0,7.094,0]\n",
      "Vsaturno=[0,5.26,0]\n",
      "Vurano=[0,3.708,0]\n",
      "Vneptuno=[0,2.9596,0]\n",
      "Vpluton=[0,2.582,0]\n",
      "\n",
      "Xsol=[0.0,0,0]\n",
      "Xmercurio=[1.0,0,0]\n",
      "Xvenus=[1.865,0,0]\n",
      "Xtierra=[2.259,0,0]\n",
      "Xmarte=[3.938,0,0]\n",
      "Xjupiter=[13.437,0,0]\n",
      "Xsaturno=[24.698,0,0]\n",
      "Xurano=[49.568,0,0]\n",
      "Xneptuno=[77.720,0,0]\n",
      "Xpluton=[101.8998,0,0]"
     ],
     "language": "python",
     "metadata": {},
     "outputs": [
      {
       "metadata": {},
       "output_type": "pyout",
       "prompt_number": 29,
       "text": [
        "3-element Array{Float64,1}:\n",
        " 101.9\n",
        "   0.0\n",
        "   0.0"
       ]
      }
     ],
     "prompt_number": 29
    },
    {
     "cell_type": "code",
     "collapsed": false,
     "input": [
      "function x(q0)\n",
      "    q0[1]\n",
      "end\n",
      "\n",
      "function y(q0)\n",
      "    q0[2]\n",
      "end  \n",
      "\n",
      "function r(q0)\n",
      "    sqrt(x(q0)^2+y(q0)^2)\n",
      "end\n",
      "\n",
      "function a(t,q0,v0,m1,G)\n",
      "    (G/(r(q0)^3)).*[-m1*x(q0),-m1*y(q0)]\n",
      "end"
     ],
     "language": "python",
     "metadata": {},
     "outputs": [
      {
       "metadata": {},
       "output_type": "pyout",
       "prompt_number": 2,
       "text": [
        "a (generic function with 1 method)"
       ]
      }
     ],
     "prompt_number": 2
    },
    {
     "cell_type": "code",
     "collapsed": false,
     "input": [
      "function a2(ti,q0,v0,m1,G,\u03b80,\u03c90)\n",
      "    (-G*m1/(r(q0)^2)).*[cos(\u03b80),sin(\u03b80)]\n",
      "end"
     ],
     "language": "python",
     "metadata": {},
     "outputs": [
      {
       "metadata": {},
       "output_type": "pyout",
       "prompt_number": 23,
       "text": [
        "a2 (generic function with 3 methods)"
       ]
      }
     ],
     "prompt_number": 23
    },
    {
     "cell_type": "code",
     "collapsed": false,
     "input": [
      "function Euler2(q0,v0,ti,h,tf,f,m1=1,G=1,\u03b80=0,\u03c90=1)\n",
      "    vs=Vector{Float64}[]\n",
      "    ts = Float64[]\n",
      "    qs=Vector{Float64}[]\n",
      "    \u03b8s=Vector{Float64}[]\n",
      "    \u03c9s=Vector{Float64}[]\n",
      "    for t in ti:h:tf\n",
      "        \u03b8_nueva=\u03b80+\u03c90*h\n",
      "        \u03c9_nueva=\u03c90+ a2(ti,q0,v0,m1,G,\u03b80,\u03c90)*h        \n",
      "        \u03b80=\u03b8_nueva\n",
      "        \u03c90=\u03c9_nueva\n",
      "        push!(\u03b8s,[\u03b80])\n",
      "        push!(\u03c9s,[\u03c90])\n",
      "        push!(qs,[q0])\n",
      "        push!(vs,[v0])\n",
      "        push!(ts,t)\n",
      "    end\n",
      "    ts,hcat(\u03c9s...)',hcat(\u03b8s...)'\n",
      "end"
     ],
     "language": "python",
     "metadata": {},
     "outputs": [
      {
       "metadata": {},
       "output_type": "pyout",
       "prompt_number": 24,
       "text": [
        "Euler2 (generic function with 5 methods)"
       ]
      }
     ],
     "prompt_number": 24
    },
    {
     "cell_type": "code",
     "collapsed": false,
     "input": [
      "TS2,\u03c9S,\u03b8S=Euler2([1,0],[0,.5],0,0.1,50,a,.34,1,0,1);"
     ],
     "language": "python",
     "metadata": {},
     "outputs": [
      {
       "ename": "LoadError",
       "evalue": "dimensions must match\nwhile loading In[25], in expression starting on line 1",
       "output_type": "pyerr",
       "traceback": [
        "dimensions must match\nwhile loading In[25], in expression starting on line 1",
        "",
        " in + at array.jl:716",
        " in Euler2 at In[24]:9"
       ]
      }
     ],
     "prompt_number": 25
    },
    {
     "cell_type": "code",
     "collapsed": false,
     "input": [
      "function Euler(q0,v0,ti,h,tf,f,m1=1,G=1)\n",
      "    vs=Vector{Float64}[]\n",
      "    ts = Float64[]\n",
      "    qs=Vector{Float64}[]\n",
      "    for t in ti:h:tf\n",
      "        x_nueva=q0+v0*h\n",
      "        v_nueva=v0+a(t,q0,v0,m1,G)*h   \n",
      "        q0=x_nueva\n",
      "        v0=v_nueva\n",
      "        push!(qs,[q0])\n",
      "        push!(vs,[v0])\n",
      "        push!(ts,t)\n",
      "    end\n",
      "    ts,hcat(qs...)',hcat(vs...)'\n",
      "end\n",
      "     "
     ],
     "language": "python",
     "metadata": {},
     "outputs": [
      {
       "metadata": {},
       "output_type": "pyout",
       "prompt_number": 6,
       "text": [
        "Euler (generic function with 3 methods)"
       ]
      }
     ],
     "prompt_number": 6
    },
    {
     "cell_type": "code",
     "collapsed": false,
     "input": [
      "TS,QS,VS=Euler([1,0],[0,.5],0,0.1,50,a,.34,1);"
     ],
     "language": "python",
     "metadata": {},
     "outputs": [],
     "prompt_number": 7
    },
    {
     "cell_type": "code",
     "collapsed": false,
     "input": [
      "X1,Y1=QS[:,1],QS[:,2];"
     ],
     "language": "python",
     "metadata": {},
     "outputs": [],
     "prompt_number": 8
    },
    {
     "cell_type": "code",
     "collapsed": false,
     "input": [
      "RS=sqrt((X1).^2+(Y1).^2);"
     ],
     "language": "python",
     "metadata": {},
     "outputs": [],
     "prompt_number": 9
    },
    {
     "cell_type": "code",
     "collapsed": false,
     "input": [
      "plot(TS,RS)\n",
      "xlabel(L\"$tiempo$\")\n",
      "ylabel(L\"$radio$\")   "
     ],
     "language": "python",
     "metadata": {},
     "outputs": [
      {
       "metadata": {},
       "output_type": "display_data",
       "png": "[encoded data removed]",
       "text": [
        "Figure(PyObject <matplotlib.figure.Figure object at 0xab522f6c>)"
       ]
      },
      {
       "metadata": {},
       "output_type": "pyout",
       "prompt_number": 10,
       "text": [
        "PyObject <matplotlib.text.Text object at 0xab53cd8c>"
       ]
      }
     ],
     "prompt_number": 10
    },
    {
     "cell_type": "code",
     "collapsed": false,
     "input": [
      "fig2 = figure()\n",
      "ax = plt.axes(xlim=(-2, 2), ylim=(-2, 2))\n",
      "\n",
      "global line1 = ax[:plot]([], [], \"bo\", lw=2)[1]\n",
      "\n",
      "function init()\n",
      "    global line1\n",
      "\n",
      "    line1[:set_data]([], [])\n",
      "\n",
      "    return ([line1],None)\n",
      "end\n",
      "\n",
      "X1,Y1=QS[:,1],QS[:,2]\n",
      "\n",
      "\n",
      "function animate2(i)\n",
      "    global line1\n",
      "    line1[:set_data]([X1[i+1]],[Y1[i+1]])\n",
      "    return ([line1],None)\n",
      "end;"
     ],
     "language": "python",
     "metadata": {},
     "outputs": [
      {
       "metadata": {},
       "output_type": "display_data",
       "png": "[encoded data removed]",
       "text": [
        "Figure(PyObject <matplotlib.figure.Figure object at 0xab214f6c>)"
       ]
      }
     ],
     "prompt_number": 11
    },
    {
     "cell_type": "code",
     "collapsed": false,
     "input": [],
     "language": "python",
     "metadata": {},
     "outputs": [],
     "prompt_number": 12
    },
    {
     "cell_type": "code",
     "collapsed": false,
     "input": [
      "myanim2 = anim.FuncAnimation(fig2, animate2, init_func=init, frames=100, interval=20, blit=true);\n",
      "myanim2[:save](\"planetas.gif\", writer=\"imagemagick\", fps=30);"
     ],
     "language": "python",
     "metadata": {},
     "outputs": [],
     "prompt_number": 13
    },
    {
     "cell_type": "code",
     "collapsed": false,
     "input": [],
     "language": "python",
     "metadata": {},
     "outputs": [],
     "prompt_number": 14
    },
    {
     "cell_type": "markdown",
     "metadata": {},
     "source": [
      "`![anim](planetas.gif)`\n",
      "![anim](planetas.gif)"
     ]
    },
    {
     "cell_type": "code",
     "collapsed": false,
     "input": [
      "include (\"TaylorIntegration.jl\")"
     ],
     "language": "python",
     "metadata": {},
     "outputs": [
      {
       "ename": "LoadError",
       "evalue": "could not open file /home/a9lara/GitRepository/TaylorIntegration.jl\nwhile loading In[26], in expression starting on line 1",
       "output_type": "pyerr",
       "traceback": [
        "could not open file /home/a9lara/GitRepository/TaylorIntegration.jl\nwhile loading In[26], in expression starting on line 1",
        "",
        " in include at ./boot.jl:242",
        " in include_from_node1 at ./loading.jl:128"
       ]
      }
     ],
     "prompt_number": 26
    },
    {
     "cell_type": "markdown",
     "metadata": {},
     "source": [
      "# END"
     ]
    }
   ],
   "metadata": {}
  }
 ]
}