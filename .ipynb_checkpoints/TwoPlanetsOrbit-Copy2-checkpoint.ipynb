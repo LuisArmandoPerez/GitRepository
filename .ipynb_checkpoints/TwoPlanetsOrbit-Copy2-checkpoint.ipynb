{
 "metadata": {
  "language": "Julia",
  "name": "",
  "signature": "sha256:7e27d0aa54acca843e6c1dd9349cb569e0c95b0a4f1c0d51de76348b2ac0239e"
 },
 "nbformat": 3,
 "nbformat_minor": 0,
 "worksheets": [
  {
   "cells": [
    {
     "cell_type": "code",
     "collapsed": false,
     "input": [
      "using SymPy\n",
      "using Interact\n",
      "using PyPlot\n",
      "using PyCall\n",
      "using Markdown\n",
      "using ODE\n",
      "@pyimport matplotlib.animation as anim "
     ],
     "language": "python",
     "metadata": {},
     "outputs": [
      {
       "html": [
        "<script charset=\"utf-8\">(function ($, undefined) {\n",
        "\n",
        "    function createElem(tag, attr, content) {\n",
        "\t// TODO: remove jQuery dependency\n",
        "\tvar el = $(\"<\" + tag + \"/>\").attr(attr);\n",
        "\tif (content) {\n",
        "\t    el.append(content);\n",
        "\t}\n",
        "\treturn el[0];\n",
        "    }\n",
        "\n",
        "    // A widget must expose an id field which identifies it to the backend,\n",
        "    // an elem attribute which is will be added to the DOM, and\n",
        "    // a getState() method which returns the value to be sent to the backend\n",
        "    // a sendUpdate() method which sends its current value to the backend\n",
        "    var Widget = {\n",
        "\tid: undefined,\n",
        "\telem: undefined,\n",
        "\tlabel: undefined,\n",
        "\tgetState: function () {\n",
        "\t    return this.elem.value;\n",
        "\t},\n",
        "\tsendUpdate: undefined\n",
        "    };\n",
        "\n",
        "    var Slider = function (typ, id, init) {\n",
        "\tvar attr = { type:  \"range\",\n",
        "\t\t     value: init.value,\n",
        "\t\t     min:   init.min,\n",
        "\t\t     max:   init.max,\n",
        "\t\t     step:  init.step },\n",
        "\t    elem = createElem(\"input\", attr),\n",
        "\t    self = this;\n",
        "\n",
        "\telem.onchange = function () {\n",
        "\t    self.sendUpdate();\n",
        "\t}\n",
        "\n",
        "\tthis.id = id;\n",
        "\tthis.elem = elem;\n",
        "\tthis.label = init.label;\n",
        "\n",
        "\tInputWidgets.commInitializer(this); // Initialize communication\n",
        "    }\n",
        "    Slider.prototype = Widget;\n",
        "\n",
        "    var Checkbox = function (typ, id, init) {\n",
        "\tvar attr = { type: \"checkbox\",\n",
        "\t\t     checked: init.value },\n",
        "\t    elem = createElem(\"input\", attr),\n",
        "\t    self = this;\n",
        "\n",
        "\tthis.getState = function () {\n",
        "\t    return elem.checked;\n",
        "\t}\n",
        "\telem.onchange = function () {\n",
        "\t    self.sendUpdate();\n",
        "\t}\n",
        "\n",
        "\tthis.id = id;\n",
        "\tthis.elem = elem;\n",
        "\tthis.label = init.label;\n",
        "\n",
        "\tInputWidgets.commInitializer(this);\n",
        "    }\n",
        "    Checkbox.prototype = Widget;\n",
        "\n",
        "    var Button = function (typ, id, init) {\n",
        "\tvar attr = { type:    \"button\",\n",
        "\t\t     value:   init.label },\n",
        "\t    elem = createElem(\"input\", attr),\n",
        "\t    self = this;\n",
        "\tthis.getState = function () {\n",
        "\t    return null;\n",
        "\t}\n",
        "\telem.onclick = function () {\n",
        "\t    self.sendUpdate();\n",
        "\t}\n",
        "\n",
        "\tthis.id = id;\n",
        "\tthis.elem = elem;\n",
        "\tthis.label = init.label;\n",
        "\n",
        "\tInputWidgets.commInitializer(this);\n",
        "    }\n",
        "    Button.prototype = Widget;\n",
        "\n",
        "    var Text = function (typ, id, init) {\n",
        "\tvar attr = { type:  \"text\",\n",
        "\t\t     placeholder: init.label,\n",
        "\t\t     value: init.value },\n",
        "\t    elem = createElem(\"input\", attr),\n",
        "\t    self = this;\n",
        "\tthis.getState = function () {\n",
        "\t    return elem.value;\n",
        "\t}\n",
        "\telem.onkeyup = function () {\n",
        "\t    self.sendUpdate();\n",
        "\t}\n",
        "\n",
        "\tthis.id = id;\n",
        "\tthis.elem = elem;\n",
        "\tthis.label = init.label;\n",
        "\n",
        "\tInputWidgets.commInitializer(this);\n",
        "    }\n",
        "    Text.prototype = Widget;\n",
        "\n",
        "    var Textarea = function (typ, id, init) {\n",
        "\tvar attr = { placeholder: init.label },\n",
        "\t    elem = createElem(\"textarea\", attr, init.value),\n",
        "\t    self = this;\n",
        "\tthis.getState = function () {\n",
        "\t    return elem.value;\n",
        "\t}\n",
        "\telem.onchange = function () {\n",
        "\t    self.sendUpdate();\n",
        "\t}\n",
        "\n",
        "\tthis.id = id;\n",
        "\tthis.elem = elem;\n",
        "\tthis.label = init.label;\n",
        "\n",
        "\tInputWidgets.commInitializer(this);\n",
        "    }\n",
        "    Textarea.prototype = Widget;\n",
        "\n",
        "    // RadioButtons\n",
        "    // Dropdown\n",
        "    // HTML\n",
        "    // Latex\n",
        "\n",
        "    var InputWidgets = {\n",
        "\tSlider: Slider,\n",
        "\tCheckbox: Checkbox,\n",
        "\tButton: Button,\n",
        "\tText: Text,\n",
        "\tTextarea: Textarea,\n",
        "\tdebug: false,\n",
        "\tlog: function () {\n",
        "\t    if (InputWidgets.debug) {\n",
        "\t\tconsole.log.apply(console, arguments);\n",
        "\t    }\n",
        "\t},\n",
        "\t// a central way to initalize communication\n",
        "\t// for widgets.\n",
        "\tcommInitializer: function (widget) {\n",
        "\t    widget.sendUpdate = function () {};\n",
        "\t}\n",
        "    };\n",
        "\n",
        "    window.InputWidgets = InputWidgets;\n",
        "\n",
        "})(jQuery, undefined);\n",
        "</script>"
       ],
       "metadata": {},
       "output_type": "display_data"
      },
      {
       "output_type": "stream",
       "stream": "stderr",
       "text": [
        "Warning: imported binding for transpose overwritten in module __anon__\n"
       ]
      },
      {
       "html": [
        "<script charset=\"utf-8\">(function (IPython, $, _, MathJax, Widgets) {\n",
        "    $.event.special.destroyed = {\n",
        "\tremove: function(o) {\n",
        "\t    if (o.handler) {\n",
        "\t\to.handler.apply(this, arguments)\n",
        "\t    }\n",
        "\t}\n",
        "    }\n",
        "\n",
        "    $(document).ready(function() {\n",
        "\tWidgets.debug = false; // log messages etc in console.\n",
        "\tfunction initComm(evt, data) {\n",
        "\t    var comm_manager = data.kernel.comm_manager;\n",
        "\t    comm_manager.register_target(\"Signal\", function (comm) {\n",
        "\t\tcomm.on_msg(function (msg) {\n",
        "\t\t    //Widgets.log(\"message received\", msg);\n",
        "\t\t    var val = msg.content.data.value;\n",
        "\t\t    $(\".signal-\" + comm.comm_id).each(function() {\n",
        "\t\t\tvar self = this;\n",
        "\t\t\tvar type = $(this).data(\"type\");\n",
        "\t\t\tif (val[type]) {\n",
        "\t\t\t    $(self).empty();\n",
        "\t\t\t    var selector = $(\"<div/>\");\n",
        "\t\t\t    var oa = new IPython.OutputArea(_.extend(selector, {\n",
        "\t\t\t\tselector: selector,\n",
        "\t\t\t\tprompt_area: true,\n",
        "\t\t\t\tevents: IPython.events,\n",
        "\t\t\t\tkeyboard_manager: IPython.keyboard_manager\n",
        "\t\t\t    })); // Hack to work with IPython 2.1.0\n",
        "\t\t\t    var toinsert = IPython.OutputArea.append_map[type].apply(\n",
        "\t\t\t\toa, [val[type], {}, selector]\n",
        "\t\t\t    );\n",
        "\t\t\t    if (type === \"text/latex\" && MathJax) {\n",
        "\t\t\t\tMathJax.Hub.Queue([\"Typeset\", MathJax.Hub, toinsert.get(0)]);\n",
        "\t\t\t    }\n",
        "\n",
        "\t\t\t    $(self).append(toinsert.contents());\n",
        "\t\t\t    selector.remove();\n",
        "\t\t\t}\n",
        "\t\t    });\n",
        "\t\t    delete val;\n",
        "\t\t    delete msg.content.data.value;\n",
        "\t\t});\n",
        "\t    });\n",
        "\n",
        "\t    // coordingate with Comm and redraw Signals\n",
        "\t    // XXX: Test using Reactive here to improve performance\n",
        "\t    $([IPython.events]).on(\n",
        "\t\t'output_appended.OutputArea', function (event, type, value, md, toinsert) {\n",
        "\t\t    if (md && md.reactive) {\n",
        "\t\t\t// console.log(md.comm_id);\n",
        "\t\t\ttoinsert.addClass(\"signal-\" + md.comm_id);\n",
        "\t\t\ttoinsert.data(\"type\", type);\n",
        "\t\t\t// Signal back indicating the mimetype required\n",
        "\t\t\tvar comm_manager = IPython.notebook.kernel.comm_manager;\n",
        "\t\t\tvar comm = comm_manager.comms[md.comm_id];\n",
        "\t\t\tcomm.send({action: \"subscribe_mime\",\n",
        "\t\t\t\t   mime: type});\n",
        "\t\t\ttoinsert.bind(\"destroyed\", function() {\n",
        "\t\t\t    comm.send({action: \"unsubscribe_mime\",\n",
        "\t\t\t\t       mime: type});\n",
        "\t\t\t});\n",
        "\t\t    }\n",
        "\t    });\n",
        "\n",
        "\t    // Set up communication for Widgets\n",
        "\t    Widgets.commInitializer = function (widget) {\n",
        "\t\tvar comm = comm_manager.new_comm(\n",
        "\t\t    \"InputWidget\", {widget_id: widget.id}\n",
        "\t\t);\n",
        "\t\twidget.sendUpdate = function () {\n",
        "\t\t    // `this` is a widget here.\n",
        "\t\t    // TODO: I have a feeling there's some\n",
        "\t\t    //       IPython bookkeeping to be done here.\n",
        "\t\t    // Widgets.log(\"State changed\", this, this.getState());\n",
        "\t\t    comm.send({value: this.getState()});\n",
        "\t\t}\n",
        "\t    };\n",
        "\t}\n",
        "\n",
        "\ttry {\n",
        "\t    // try to initialize right away. otherwise, wait on the status_started event.\n",
        "\t    initComm(undefined, IPython.notebook);\n",
        "\t} catch (e) {\n",
        "\t    $([IPython.events]).on('status_started.Kernel', initComm);\n",
        "\t}\n",
        "    });\n",
        "})(IPython, jQuery, _, MathJax, InputWidgets);\n",
        "</script>"
       ],
       "metadata": {},
       "output_type": "display_data"
      }
     ],
     "prompt_number": 1
    },
    {
     "cell_type": "code",
     "collapsed": false,
     "input": [
      "function x(q0)\n",
      "    q0[3]-q0[1]\n",
      "end"
     ],
     "language": "python",
     "metadata": {},
     "outputs": [
      {
       "metadata": {},
       "output_type": "pyout",
       "prompt_number": 2,
       "text": [
        "x (generic function with 1 method)"
       ]
      }
     ],
     "prompt_number": 2
    },
    {
     "cell_type": "code",
     "collapsed": false,
     "input": [
      "function y(q0)\n",
      "    q0[4]-q0[2]\n",
      "end  "
     ],
     "language": "python",
     "metadata": {},
     "outputs": [
      {
       "metadata": {},
       "output_type": "pyout",
       "prompt_number": 3,
       "text": [
        "y (generic function with 1 method)"
       ]
      }
     ],
     "prompt_number": 3
    },
    {
     "cell_type": "code",
     "collapsed": false,
     "input": [
      "function r(q0)\n",
      "    sqrt(x(q0)^2+y(q0)^2)\n",
      "end"
     ],
     "language": "python",
     "metadata": {},
     "outputs": [
      {
       "metadata": {},
       "output_type": "pyout",
       "prompt_number": 4,
       "text": [
        "r (generic function with 1 method)"
       ]
      }
     ],
     "prompt_number": 4
    },
    {
     "cell_type": "code",
     "collapsed": false,
     "input": [
      "function a(t,q0,v0,\u03bc)\n",
      "    (1/(r(q0)^3)).*[\u03bc*x(q0),\u03bc*y(q0),-x(q0),-y(q0)]\n",
      "end"
     ],
     "language": "python",
     "metadata": {},
     "outputs": [
      {
       "metadata": {},
       "output_type": "pyout",
       "prompt_number": 5,
       "text": [
        "a (generic function with 1 method)"
       ]
      }
     ],
     "prompt_number": 5
    },
    {
     "cell_type": "code",
     "collapsed": false,
     "input": [
      "function RungeKutta4(q0,v0,f,t,h,w=1)\n",
      "    l1=h*f(t,q0,v0,w)\n",
      "    k1=h*v0\n",
      "    l2=h*f(t+h/2,q0+k1/2,v0+l1/2,w)\n",
      "    k2=h*(v0+l1/2)\n",
      "    l3=h*f(t+h/2,q0+k2/2,v0+l2/2,w)\n",
      "    k3=h*(v0+l2/2)\n",
      "    l4=h*f(t+h,q0+k3,v0+l3,w)\n",
      "    k4=h*(v0+l3)\n",
      "    qnueva=q0+(1/6)*(k1+2k2+2k3+k4)\n",
      "    vnueva=v0+(1/6)*(l1+2l2+2l3+l4)\n",
      "    vnueva,qnueva\n",
      "end"
     ],
     "language": "python",
     "metadata": {},
     "outputs": [
      {
       "metadata": {},
       "output_type": "pyout",
       "prompt_number": 6,
       "text": [
        "RungeKutta4 (generic function with 2 methods)"
       ]
      }
     ],
     "prompt_number": 6
    },
    {
     "cell_type": "code",
     "collapsed": false,
     "input": [
      "function Integrar(metodo,q0,v0,t0,tf,h,f,w=1)\n",
      "    q = Vector{Float64}[]\n",
      "    v = Vector{Float64}[]\n",
      "    t = Float64[]\n",
      "    for ti in t0:h:tf\n",
      "        v0,q0=metodo(q0,v0,f,ti,h,w)\n",
      "        push!(t,ti)\n",
      "        push!(q,[q0])\n",
      "        push!(v,[v0])\n",
      "    end\n",
      "    t,hcat(q...)',hcat(v...)'\n",
      "end"
     ],
     "language": "python",
     "metadata": {},
     "outputs": [
      {
       "metadata": {},
       "output_type": "pyout",
       "prompt_number": 7,
       "text": [
        "Integrar (generic function with 2 methods)"
       ]
      }
     ],
     "prompt_number": 7
    },
    {
     "cell_type": "code",
     "collapsed": false,
     "input": [
      "fig2 = figure()\n",
      "ax = plt.axes(xlim=(-2, 2), ylim=(-2, 2))\n",
      "\n",
      "global line1 = ax[:plot]([], [], \"bo\", lw=2)[1]\n",
      "\n",
      "function init()\n",
      "    global line1\n",
      "\n",
      "    line1[:set_data]([], [])\n",
      "\n",
      "    return ([line1],None)\n",
      "end\n",
      "\n",
      "T,Q,DQ=Integrar(RungeKutta4,[0,0,1,0],[0,0,0,0.7],0,20,0.1,a,5)\n",
      "X1,Y1,X2,Y2=Q[:,1],Q[:,2],Q[:,3],Q[:,4]\n",
      "\n",
      "\n",
      "function animate2(i)\n",
      "    global line1\n",
      "    line1[:set_data]([X1[i+1],X2[i+1]],[Y1[i+1],Y2[i+1]])\n",
      "    return ([line1],None)\n",
      "end;"
     ],
     "language": "python",
     "metadata": {},
     "outputs": [
      {
       "metadata": {},
       "output_type": "display_data",
       "png": "[encoded data removed]",
       "text": [
        "Figure(PyObject <matplotlib.figure.Figure object at 0xab131bcc>)"
       ]
      }
     ],
     "prompt_number": 12
    },
    {
     "cell_type": "code",
     "collapsed": false,
     "input": [
      "myanim2 = anim.FuncAnimation(fig2, animate2, init_func=init, frames=100, interval=20, blit=true);\n",
      "myanim2[:save](\"planetas.gif\", writer=\"imagemagick\", fps=30);"
     ],
     "language": "python",
     "metadata": {},
     "outputs": []
    },
    {
     "cell_type": "markdown",
     "metadata": {},
     "source": [
      "`![anim](planetas.gif)`\n",
      "![anim](planetas.gif)"
     ]
    },
    {
     "cell_type": "code",
     "collapsed": false,
     "input": [
      "R=sqrt(X2.^2+Y2.^2);"
     ],
     "language": "python",
     "metadata": {},
     "outputs": [],
     "prompt_number": 10
    },
    {
     "cell_type": "code",
     "collapsed": false,
     "input": [
      "plot(T,R)\n",
      "xlabel(L\"$t$\")\n",
      "ylabel(L\"$r$\")"
     ],
     "language": "python",
     "metadata": {},
     "outputs": [
      {
       "metadata": {},
       "output_type": "display_data",
       "png": "[encoded data removed]",
       "text": [
        "Figure(PyObject <matplotlib.figure.Figure object at 0xab173bec>)"
       ]
      },
      {
       "metadata": {},
       "output_type": "pyout",
       "prompt_number": 11,
       "text": [
        "PyObject <matplotlib.text.Text object at 0xab129dac>"
       ]
      }
     ],
     "prompt_number": 11
    },
    {
     "cell_type": "markdown",
     "metadata": {},
     "source": [
      "#END"
     ]
    }
   ],
   "metadata": {}
  }
 ]
}