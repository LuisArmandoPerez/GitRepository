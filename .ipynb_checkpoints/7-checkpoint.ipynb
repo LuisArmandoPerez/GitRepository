{
 "metadata": {
  "language": "Julia",
  "name": "",
  "signature": "sha256:65872d8bb0762e693f3bfc7574e7c3772412c34becc2819f7f10eca172d95312"
 },
 "nbformat": 3,
 "nbformat_minor": 0,
 "worksheets": [
  {
   "cells": [
    {
     "cell_type": "markdown",
     "metadata": {},
     "source": [
      "#Tabal de Meidiciones y Gr\u00e1gicas Pr\u00e1ctica 7"
     ]
    },
    {
     "cell_type": "markdown",
     "metadata": {},
     "source": [
      "Antes de correr el Noebook hay que estar seguros de haber puesto:\n",
      "\n",
      "$ export PYTHON=/usr/bin/python \n",
      "\n",
      "en la terminal antes de poner:\n",
      "\n",
      "$ ipython notebook --profile julia"
     ]
    },
    {
     "cell_type": "code",
     "collapsed": false,
     "input": [
      ";export PYTHON=/usr/bin/python "
     ],
     "language": "python",
     "metadata": {},
     "outputs": [],
     "prompt_number": 16
    },
    {
     "cell_type": "code",
     "collapsed": false,
     "input": [
      "using PyPlot\n",
      "using PyCall\n",
      "using Gadfly"
     ],
     "language": "python",
     "metadata": {},
     "outputs": [
      {
       "output_type": "stream",
       "stream": "stderr",
       "text": [
        "\n",
        "WARNING: deprecated syntax \"{}\" at /home/a9lara/.julia/v0.4/Gadfly/src/Gadfly.jl:744.\n",
        "Use \"[]\" instead.\n",
        "\n",
        "WARNING: deprecated syntax \"{a=>b, ...}\" at /home/a9lara/.julia/v0.4/Gadfly/src/Gadfly.jl:956.\n",
        "Use \"Dict{Any,Any}(a=>b, ...)\" instead.\n",
        "\n",
        "WARNING: deprecated syntax \"{a=>b, ...}\" at /home/a9lara/.julia/v0.4/Gadfly/src/Gadfly.jl:958.\n",
        "Use \"Dict{Any,Any}(a=>b, ...)\" instead.\n",
        "\n",
        "WARNING: deprecated syntax \"{a=>b, ...}\" at /home/a9lara/.julia/v0.4/Gadfly/src/Gadfly.jl:977.\n",
        "Use \"Dict{Any,Any}(a=>b, ...)\" instead.\n",
        "\n",
        "WARNING: deprecated syntax \"{a=>b, ...}\" at /home/a9lara/.julia/v0.4/Gadfly/src/Gadfly.jl:990.\n",
        "Use \"Dict{Any,Any}(a=>b, ...)\" instead.\n",
        "\n",
        "WARNING: deprecated syntax \"{a=>b, ...}\" at /home/a9lara/.julia/v0.4/Gadfly/src/Gadfly.jl:990.\n",
        "Use \"Dict{Any,Any}(a=>b, ...)\" instead.\n",
        "Warning: New definition \n",
        "    convert(TypeConstructor"
       ]
      },
      {
       "output_type": "stream",
       "stream": "stderr",
       "text": [
        ",AbstractAlphaColorValue{D,T}) at /home/a9lara/.julia/v0.4/Color/src/conversions.jl:692\n",
        "is ambiguous with: \n",
        "    convert(Type{T},T) at base.jl:36.\n",
        "To fix, define \n",
        "    convert(Type{_<:AbstractAlphaColorValue{D,T}},_<:AbstractAlphaColorValue{D,T})\n",
        "before the new definition.\n",
        "\n",
        "WARNING: deprecated syntax \"{}\" at /home/a9lara/.julia/v0.4/Compose/src/misc.jl:16.\n",
        "Use \"[]\" instead.\n",
        "\n",
        "WARNING: deprecated syntax \"[a=>b, ...]\" at /home/a9lara/.julia/v0.4/Compose/src/form.jl:842.\n",
        "Use \"Dict(a=>b, ...)\" instead.\n",
        "\n",
        "WARNING: deprecated syntax \"{a,b, ...}\" at /home/a9lara/.julia/v0.4/Compose/src/container.jl:410.\n",
        "Use \"Any[a,b, ...]\" instead.\n",
        "\n",
        "WARNING: deprecated syntax \"{}\" at /home/a9lara/.julia/v0.4/Compose/src/table.jl:47.\n",
        "Use \"[]\" instead.\n",
        "\n",
        "WARNING: deprecated syntax \"{a for a in b}\" at /home/a9lara/.julia/v0.4/Compose/src/table.jl:164.\n",
        "Use \"Any[a for a in b]\" instead.\n",
        "\n",
        "WARNING: deprecated syntax \"{}\" at /home/a9lara/.julia/v0.4/Compose/src/table.jl:169.\n",
        "Use \"[]\" instead.\n",
        "\n",
        "WARNING: deprecated syntax \"{}\" at /home/a9lara/.julia/v0.4/Compose/src/svg.jl:545.\n",
        "Use \"[]\" instead.\n",
        "\n",
        "WARNING: deprecated syntax \"{a,b, ...}\" at /home/a9lara/.julia/v0.4/Compose/src/pgf_backend.jl:101.\n",
        "Use \"Any[a,b, ...]\" instead.\n",
        "\n",
        "WARNING: deprecated syntax \"{}\" at /home/a9lara/.julia/v0.4/Gadfly/src/ticks.jl:36.\n",
        "Use \"[]\" instead.\n",
        "\n",
        "WARNING: deprecated syntax \"{}\" at /home/a9lara/.julia/v0.4/Gadfly/src/varset.jl:10.\n",
        "Use \"[]\" instead.\n",
        "\n",
        "WARNING: deprecated syntax \"{}\" at /home/a9lara/.julia/v0.4/Gadfly/src/varset.jl:11.\n",
        "Use \"[]\" instead.\n",
        "\n",
        "WARNING: deprecated syntax \"{}\" at /home/a9lara/.julia/v0.4/Gadfly/src/varset.jl:12.\n",
        "Use \"[]\" instead.\n",
        "\n",
        "WARNING: deprecated syntax \"{}\" at /home/a9lara/.julia/v0.4/Gadfly/src/varset.jl:13.\n",
        "Use \"[]\" instead.\n",
        "\n",
        "WARNING: deprecated syntax \"{a for a in b}\" at /home/a9lara/.julia/v0.4/Gadfly/src/data.jl:55.\n",
        "Use \"Any[a for a in b]\" instead.\n",
        "\n",
        "WARNING: deprecated syntax \"{a for a in b}\" at /home/a9lara/.julia/v0.4/Gadfly/src/data.jl:56.\n",
        "Use \"Any[a for a in b]\" instead.\n",
        "\n",
        "WARNING: deprecated syntax \"[a=>b, ...]\" at /home/a9lara/.julia/v0.4/Gadfly/src/aesthetics.jl:92.\n",
        "Use \"Dict(a=>b, ...)\" instead.\n",
        "Warning: New definition \n",
        "    cat("
       ]
      },
      {
       "output_type": "stream",
       "stream": "stderr",
       "text": [
        "Aesthetics...,) at /home/a9lara/.julia/v0.4/Gadfly/src/aesthetics.jl:225\n",
        "is ambiguous with: \n",
        "    cat(Any,AbstractArray{T,N}...) at abstractarray.jl:650.\n",
        "To fix, define \n",
        "    cat(Aesthetics,)\n",
        "before the new definition.\n",
        "Warning: New definition \n",
        "    cat(Aesthetics...,) at /home/a9lara/.julia/v0.4/Gadfly/src/aesthetics.jl:225\n",
        "is ambiguous with: \n",
        "    cat(Any,AbstractArray{T,N}...) at abstractarray.jl:652.\n",
        "To fix, define \n",
        "    cat(Aesthetics,)\n",
        "before the new definition.\n",
        "\n",
        "WARNING: deprecated syntax \"{a=>b, ...}\" at /home/a9lara/.julia/v0.4/Gadfly/src/poetry.jl:38.\n",
        "Use \"Dict{Any,Any}(a=>b, ...)\" instead.\n",
        "\n",
        "WARNING: deprecated syntax \"{a=>b, ...}\" at /home/a9lara/.julia/v0.4/Gadfly/src/poetry.jl:79.\n",
        "Use \"Dict{Any,Any}(a=>b, ...)\" instead.\n",
        "\n",
        "WARNING: deprecated syntax \"{a for a in b}\" at /home/a9lara/.julia/v0.4/Gadfly/src/scale.jl:427.\n",
        "Use \"Any[a for a in b]\" instead.\n",
        "\n",
        "WARNING: deprecated syntax \"{a=>b for (a,b) in c}\" at /home/a9lara/.julia/v0.4/Gadfly/src/scale.jl:532.\n",
        "Use \"Dict{Any,Any}([a=>b for (a,b) in c])\" instead.\n",
        "\n",
        "WARNING: deprecated syntax \"{a,b, ...}\" at /home/a9lara/.julia/v0.4/Gadfly/src/geom/boxplot.jl:93.\n",
        "Use \"Any[a,b, ...]\" instead.\n",
        "\n",
        "WARNING: deprecated syntax \"{a,b, ...}\" at /home/a9lara/.julia/v0.4/Gadfly/src/geom/boxplot.jl:95.\n",
        "Use \"Any[a,b, ...]\" instead.\n",
        "\n",
        "WARNING: deprecated syntax \"{a,b, ...}\" at /home/a9lara/.julia/v0.4/Gadfly/src/geom/boxplot.jl:119.\n",
        "Use \"Any[a,b, ...]\" instead.\n",
        "\n",
        "WARNING: deprecated syntax \"{a,b, ...}\" at /home/a9lara/.julia/v0.4/Gadfly/src/geom/hline.jl:32.\n",
        "Use \"Any[a,b, ...]\" instead.\n",
        "\n",
        "WARNING: deprecated syntax \"{a,b, ...}\" at /home/a9lara/.julia/v0.4/Gadfly/src/geom/subplot.jl:244.\n",
        "Use \"Any[a,b, ...]\" instead.\n",
        "\n",
        "WARNING: deprecated syntax \"{a,b, ...}\" at /home/a9lara/.julia/v0.4/Gadfly/src/geom/subplot.jl:252.\n",
        "Use \"Any[a,b, ...]\" instead.\n",
        "\n",
        "WARNING: deprecated syntax \"{a,b, ...}\" at /home/a9lara/.julia/v0.4/Gadfly/src/geom/vline.jl:31.\n",
        "Use \"Any[a,b, ...]\" instead.\n",
        "\n",
        "WARNING: deprecated syntax \"{a,b, ...}\" at /home/a9lara/.julia/v0.4/Gadfly/src/guide.jl:90.\n",
        "Use \"Any[a,b, ...]\" instead.\n",
        "\n",
        "WARNING: deprecated syntax \"{a,b, ...}\" at /home/a9lara/.julia/v0.4/Gadfly/src/guide.jl:114.\n",
        "Use \"Any[a,b, ...]\" instead.\n",
        "\n",
        "WARNING: deprecated syntax \"{a,b, ...}\" at /home/a9lara/.julia/v0.4/Gadfly/src/guide.jl:130.\n",
        "Use \"Any[a,b, ...]\" instead.\n",
        "\n",
        "WARNING: deprecated syntax \"{a,b, ...}\" at /home/a9lara/.julia/v0.4/Gadfly/src/guide.jl:145.\n",
        "Use \"Any[a,b, ...]\" instead.\n",
        "\n",
        "WARNING: deprecated syntax \"{a,b, ...}\" at /home/a9lara/.julia/v0.4/Gadfly/src/guide.jl:235.\n",
        "Use \"Any[a,b, ...]\" instead.\n",
        "\n",
        "WARNING: deprecated syntax \"{a,b, ...}\" at /home/a9lara/.julia/v0.4/Gadfly/src/guide.jl:329.\n",
        "Use \"Any[a,b, ...]\" instead.\n",
        "\n",
        "WARNING: deprecated syntax \"{a,b, ...}\" at /home/a9lara/.julia/v0.4/Gadfly/src/guide.jl:344.\n",
        "Use \"Any[a,b, ...]\" instead.\n",
        "\n",
        "WARNING: deprecated syntax \"{a,b, ...}\" at /home/a9lara/.julia/v0.4/Gadfly/src/guide.jl:346.\n",
        "Use \"Any[a,b, ...]\" instead.\n",
        "\n",
        "WARNING: deprecated syntax \"{a,b, ...}\" at /home/a9lara/.julia/v0.4/Gadfly/src/guide.jl:351.\n",
        "Use \"Any[a,b, ...]\" instead.\n",
        "\n",
        "WARNING: deprecated syntax \"{a,b, ...}\" at /home/a9lara/.julia/v0.4/Gadfly/src/guide.jl:362.\n",
        "Use \"Any[a,b, ...]\" instead.\n",
        "\n",
        "WARNING: deprecated syntax \"{}\" at /home/a9lara/.julia/v0.4/Gadfly/src/guide.jl:560.\n",
        "Use \"[]\" instead.\n",
        "\n",
        "WARNING: deprecated syntax \"{}\" at /home/a9lara/.julia/v0.4/Gadfly/src/guide.jl:561.\n",
        "Use \"[]\" instead.\n",
        "\n",
        "WARNING: deprecated syntax \"{}\" at /home/a9lara/.julia/v0.4/Gadfly/src/guide.jl:562.\n",
        "Use \"[]\" instead.\n",
        "\n",
        "WARNING: deprecated syntax \"{}\" at /home/a9lara/.julia/v0.4/Gadfly/src/guide.jl:573.\n",
        "Use \"[]\" instead.\n",
        "\n",
        "WARNING: deprecated syntax \"{}\" at /home/a9lara/.julia/v0.4/Gadfly/src/guide.jl:574.\n",
        "Use \"[]\" instead.\n",
        "\n",
        "WARNING: deprecated syntax \"{a,b, ...}\" at /home/a9lara/.julia/v0.4/Gadfly/src/guide.jl:580.\n",
        "Use \"Any[a,b, ...]\" instead.\n",
        "\n",
        "WARNING: deprecated syntax \"{a,b, ...}\" at /home/a9lara/.julia/v0.4/Gadfly/src/guide.jl:588.\n",
        "Use \"Any[a,b, ...]\" instead.\n",
        "\n",
        "WARNING: deprecated syntax \"{}\" at /home/a9lara/.julia/v0.4/Gadfly/src/guide.jl:723.\n",
        "Use \"[]\" instead.\n",
        "\n",
        "WARNING: deprecated syntax \"{}\" at /home/a9lara/.julia/v0.4/Gadfly/src/guide.jl:724.\n",
        "Use \"[]\" instead.\n",
        "\n",
        "WARNING: deprecated syntax \"{}\" at /home/a9lara/.julia/v0.4/Gadfly/src/guide.jl:725.\n",
        "Use \"[]\" instead.\n",
        "\n",
        "WARNING: deprecated syntax \"{}\" at /home/a9lara/.julia/v0.4/Gadfly/src/guide.jl:736.\n",
        "Use \"[]\" instead.\n",
        "\n",
        "WARNING: deprecated syntax \"{}\" at /home/a9lara/.julia/v0.4/Gadfly/src/guide.jl:737.\n",
        "Use \"[]\" instead.\n",
        "\n",
        "WARNING: deprecated syntax \"{a,b, ...}\" at /home/a9lara/.julia/v0.4/Gadfly/src/guide.jl:743.\n",
        "Use \"Any[a,b, ...]\" instead.\n",
        "\n",
        "WARNING: deprecated syntax \"{a,b, ...}\" at /home/a9lara/.julia/v0.4/Gadfly/src/guide.jl:751.\n",
        "Use \"Any[a,b, ...]\" instead.\n",
        "\n",
        "WARNING: deprecated syntax \"{a,b, ...}\" at /home/a9lara/.julia/v0.4/Gadfly/src/guide.jl:1110.\n",
        "Use \"Any[a,b, ...]\" instead.\n",
        "\n",
        "WARNING: deprecated syntax \"{a,b, ...}\" at /home/a9lara/.julia/v0.4/Gadfly/src/guide.jl:1112.\n",
        "Use \"Any[a,b, ...]\" instead.\n",
        "\n",
        "WARNING: deprecated syntax \"{a,b, ...}\" at /home/a9lara/.julia/v0.4/Gadfly/src/guide.jl:1114.\n",
        "Use \"Any[a,b, ...]\" instead.\n",
        "\n",
        "WARNING: deprecated syntax \"{}\" at /home/a9lara/.julia/v0.4/Gadfly/src/statistics.jl:508.\n",
        "Use \"[]\" instead.\n",
        "\n",
        "WARNING: deprecated syntax \"{}\" at /home/a9lara/.julia/v0.4/Gadfly/src/statistics.jl:740.\n",
        "Use \"[]\" instead.\n"
       ]
      },
      {
       "ename": "LoadError",
       "evalue": "plot not defined\nwhile loading /home/a9lara/.julia/v0.4/KernelDensity/src/glue/PyPlot.jl, in expression starting on line 3\nwhile loading /home/a9lara/.julia/v0.4/KernelDensity/src/KernelDensity.jl, in expression starting on line 20\nwhile loading /home/a9lara/.julia/v0.4/Gadfly/src/statistics.jl, in expression starting on line 15\nwhile loading /home/a9lara/.julia/v0.4/Gadfly/src/Gadfly.jl, in expression starting on line 948\nwhile loading In[12], in expression starting on line 3",
       "output_type": "pyerr",
       "traceback": [
        "plot not defined\nwhile loading /home/a9lara/.julia/v0.4/KernelDensity/src/glue/PyPlot.jl, in expression starting on line 3\nwhile loading /home/a9lara/.julia/v0.4/KernelDensity/src/KernelDensity.jl, in expression starting on line 20\nwhile loading /home/a9lara/.julia/v0.4/Gadfly/src/statistics.jl, in expression starting on line 15\nwhile loading /home/a9lara/.julia/v0.4/Gadfly/src/Gadfly.jl, in expression starting on line 948\nwhile loading In[12], in expression starting on line 3",
        "",
        " in include at ./boot.jl:242",
        " in include_from_node1 at ./loading.jl:128",
        " in PyPlot_init at /home/a9lara/.julia/v0.4/KernelDensity/src/KernelDensity.jl:19",
        " in include at ./boot.jl:242",
        " in include_from_node1 at ./loading.jl:128",
        " in reload_path at ./loading.jl:152",
        " in _require at ./loading.jl:67",
        " in require at ./loading.jl:54",
        " in require_3B_3876 at /usr/bin/../lib/i386-linux-gnu/julia/sys.so",
        " in include at ./boot.jl:242",
        " in include_from_node1 at ./loading.jl:128",
        " in include at ./boot.jl:242",
        " in include_from_node1 at ./loading.jl:128",
        " in reload_path at ./loading.jl:152",
        " in _require at ./loading.jl:67",
        " in require at ./loading.jl:51",
        " in require_3B_3876 at /usr/bin/../lib/i386-linux-gnu/julia/sys.so"
       ]
      }
     ],
     "prompt_number": 12
    },
    {
     "cell_type": "code",
     "collapsed": false,
     "input": [
      "i=[495.8,450.4,414.2,375.8,319.4,268.6,228.2,197.1,166.5,143.8,128.4,101.1,88.9,80.5,77.4,73.8,69.03,61.23,55.54,49.58,42.95,40.77,36.67,31.76,27.39,22.64,21.49];"
     ],
     "language": "python",
     "metadata": {},
     "outputs": [],
     "prompt_number": 3
    },
    {
     "cell_type": "code",
     "collapsed": false,
     "input": [
      "v2=[1.033,1.026,1.021,1.016,1.007,0.999,0.991,0.984,0.976,0.969,0.963,0.953,0.947,0.943,0.942,0.939,0.933,0.928,0.924,0.918,0.911,0.908,0.903,0.895,0.889,0.880,0.877];"
     ],
     "language": "python",
     "metadata": {},
     "outputs": [],
     "prompt_number": 4
    },
    {
     "cell_type": "code",
     "collapsed": false,
     "input": [
      "inv=0.03*v2+0.05 #incertidumbre voltaje;\n",
      "v=v2*100;"
     ],
     "language": "python",
     "metadata": {},
     "outputs": [],
     "prompt_number": 9
    },
    {
     "cell_type": "code",
     "collapsed": false,
     "input": [
      "ini=0.01*i+0.0001 #incertidumbre corriente;"
     ],
     "language": "python",
     "metadata": {},
     "outputs": [],
     "prompt_number": 6
    },
    {
     "cell_type": "code",
     "collapsed": false,
     "input": [
      "iot=([(500*e^(20*vo)) for vo in v2])/1e9 #corriente te\u00f3rica;"
     ],
     "language": "python",
     "metadata": {},
     "outputs": [],
     "prompt_number": 7
    },
    {
     "cell_type": "code",
     "collapsed": false,
     "input": [
      "@pyimport ipy_table as pytab\n",
      "v=v2*100\n",
      "it=trunc(i,1)\n",
      "vt=trunc(v,1)\n",
      "datos=([it],[ini],[vt],[inv])\n",
      "cata = [[\"I\" \"Incertidumbre I\" \"v\" \"Incertidumbre V\"];[datos[1] datos[2] datos[3] datos[4]]];\n",
      "pytab.make_table(cata)"
     ],
     "language": "python",
     "metadata": {},
     "outputs": [
      {
       "html": [
        "<table border=\"1\" cellpadding=\"3\" cellspacing=\"0\"  style=\"border:1px solid black;border-collapse:collapse;\"><tr><td>I</td><td>Incertidumbre&nbspI</td><td>v</td><td>Incertidumbre&nbspV</td></tr><tr><td>495.8000</td><td>4.9581</td><td>103.3000</td><td>0.0810</td></tr><tr><td>450.4000</td><td>4.5041</td><td>102.6000</td><td>0.0808</td></tr><tr><td>414.2000</td><td>4.1421</td><td>102.1000</td><td>0.0806</td></tr><tr><td>375.8000</td><td>3.7581</td><td>101.6000</td><td>0.0805</td></tr><tr><td>319.4000</td><td>3.1941</td><td>100.6000</td><td>0.0802</td></tr><tr><td>268.6000</td><td>2.6861</td><td>99.9000</td><td>0.0800</td></tr><tr><td>228.2000</td><td>2.2821</td><td>99.1000</td><td>0.0797</td></tr><tr><td>197.1000</td><td>1.9711</td><td>98.4000</td><td>0.0795</td></tr><tr><td>166.5000</td><td>1.6651</td><td>97.6000</td><td>0.0793</td></tr><tr><td>143.8000</td><td>1.4381</td><td>96.8000</td><td>0.0791</td></tr><tr><td>128.4000</td><td>1.2841</td><td>96.3000</td><td>0.0789</td></tr><tr><td>101.1000</td><td>1.0111</td><td>95.3000</td><td>0.0786</td></tr><tr><td>88.9000</td><td>0.8891</td><td>94.6000</td><td>0.0784</td></tr><tr><td>80.5000</td><td>0.8051</td><td>94.3000</td><td>0.0783</td></tr><tr><td>77.4000</td><td>0.7741</td><td>94.1000</td><td>0.0783</td></tr><tr><td>73.8000</td><td>0.7381</td><td>93.8000</td><td>0.0782</td></tr><tr><td>69.0000</td><td>0.6904</td><td>93.3000</td><td>0.0780</td></tr><tr><td>61.2000</td><td>0.6124</td><td>92.8000</td><td>0.0778</td></tr><tr><td>55.5000</td><td>0.5555</td><td>92.4000</td><td>0.0777</td></tr><tr><td>49.5000</td><td>0.4959</td><td>91.8000</td><td>0.0775</td></tr><tr><td>42.9000</td><td>0.4296</td><td>91.1000</td><td>0.0773</td></tr><tr><td>40.7000</td><td>0.4078</td><td>90.8000</td><td>0.0772</td></tr><tr><td>36.6000</td><td>0.3668</td><td>90.3000</td><td>0.0771</td></tr><tr><td>31.7000</td><td>0.3177</td><td>89.5000</td><td>0.0769</td></tr><tr><td>27.3000</td><td>0.2740</td><td>88.9000</td><td>0.0767</td></tr><tr><td>22.6000</td><td>0.2265</td><td>88.0000</td><td>0.0764</td></tr><tr><td>21.4000</td><td>0.2150</td><td>87.7000</td><td>0.0763</td></tr>"
       ],
       "metadata": {},
       "output_type": "pyout",
       "prompt_number": 17,
       "text": [
        "PyObject <IPython.core.display.HTML object at 0xb00ccc2c>"
       ]
      }
     ],
     "prompt_number": 17
    },
    {
     "cell_type": "code",
     "collapsed": false,
     "input": [
      "errorbar(v, i, yerr=ini,xerr=inv)\n",
      "errorbar(v,iot)"
     ],
     "language": "python",
     "metadata": {},
     "outputs": [
      {
       "ename": "LoadError",
       "evalue": "errorbar not defined\nwhile loading In[19], in expression starting on line 1",
       "output_type": "pyerr",
       "traceback": [
        "errorbar not defined\nwhile loading In[19], in expression starting on line 1",
        ""
       ]
      }
     ],
     "prompt_number": 19
    },
    {
     "cell_type": "code",
     "collapsed": false,
     "input": [
      "Y=[log(pap) for pap in i];"
     ],
     "language": "python",
     "metadata": {},
     "outputs": [],
     "prompt_number": 21
    },
    {
     "cell_type": "code",
     "collapsed": false,
     "input": [
      "X=[log(plap) for plap in v2];"
     ],
     "language": "python",
     "metadata": {},
     "outputs": [],
     "prompt_number": 10
    },
    {
     "cell_type": "code",
     "collapsed": false,
     "input": [
      "K=plot(X,Y)"
     ],
     "language": "python",
     "metadata": {},
     "outputs": [
      {
       "ename": "LoadError",
       "evalue": "`plot` has no method matching plot(::Array{Any,1}, ::Array{Any,1})\nwhile loading In[34], in expression starting on line 1",
       "output_type": "pyerr",
       "traceback": [
        "`plot` has no method matching plot(::Array{Any,1}, ::Array{Any,1})\nwhile loading In[34], in expression starting on line 1",
        ""
       ]
      }
     ],
     "prompt_number": 34
    },
    {
     "cell_type": "code",
     "collapsed": false,
     "input": [
      "dx=X[10]-X[2]"
     ],
     "language": "python",
     "metadata": {},
     "outputs": [
      {
       "metadata": {},
       "output_type": "pyout",
       "prompt_number": 12,
       "text": [
        "-0.05715841383994866"
       ]
      }
     ],
     "prompt_number": 12
    },
    {
     "cell_type": "code",
     "collapsed": false,
     "input": [
      "dy=Y[10]-Y[2]"
     ],
     "language": "python",
     "metadata": {},
     "outputs": [
      {
       "metadata": {},
       "output_type": "pyout",
       "prompt_number": 28,
       "text": [
        "-1.1417126315385344"
       ]
      }
     ],
     "prompt_number": 28
    },
    {
     "cell_type": "code",
     "collapsed": false,
     "input": [
      "m=dy/dx"
     ],
     "language": "python",
     "metadata": {},
     "outputs": [
      {
       "metadata": {},
       "output_type": "pyout",
       "prompt_number": 29,
       "text": [
        "19.974533141095993"
       ]
      }
     ],
     "prompt_number": 29
    },
    {
     "cell_type": "markdown",
     "metadata": {},
     "source": [
      "#END"
     ]
    }
   ],
   "metadata": {}
  }
 ]
}