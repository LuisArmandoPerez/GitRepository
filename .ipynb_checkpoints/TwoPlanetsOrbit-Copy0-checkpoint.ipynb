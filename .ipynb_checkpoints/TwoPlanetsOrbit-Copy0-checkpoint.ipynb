{
 "metadata": {
  "language": "Julia",
  "name": "",
  "signature": "sha256:96a0b8ae2a2988e24c3816e5fac9f8b45f564279e1ca624ab7c7c87c826c75e3"
 },
 "nbformat": 3,
 "nbformat_minor": 0,
 "worksheets": [
  {
   "cells": [
    {
     "cell_type": "code",
     "collapsed": false,
     "input": [
      "using SymPy\n",
      "using Interact\n",
      "using PyPlot\n",
      "using PyCall\n",
      "using Markdown\n",
      "using ODE\n",
      "@pyimport matplotlib.animation as anim "
     ],
     "language": "python",
     "metadata": {},
     "outputs": [],
     "prompt_number": 24
    },
    {
     "cell_type": "code",
     "collapsed": false,
     "input": [
      "function x(q0)\n",
      "    q0[3]-q0[1]\n",
      "end"
     ],
     "language": "python",
     "metadata": {},
     "outputs": [
      {
       "metadata": {},
       "output_type": "pyout",
       "prompt_number": 25,
       "text": [
        "x (generic function with 1 method)"
       ]
      }
     ],
     "prompt_number": 25
    },
    {
     "cell_type": "code",
     "collapsed": false,
     "input": [
      "function y(q0)\n",
      "    q0[4]-q0[2]\n",
      "end  "
     ],
     "language": "python",
     "metadata": {},
     "outputs": [
      {
       "metadata": {},
       "output_type": "pyout",
       "prompt_number": 26,
       "text": [
        "y (generic function with 1 method)"
       ]
      }
     ],
     "prompt_number": 26
    },
    {
     "cell_type": "code",
     "collapsed": false,
     "input": [
      "function r(q0)\n",
      "    sqrt(x(q0)^2+y(q0)^2)\n",
      "end"
     ],
     "language": "python",
     "metadata": {},
     "outputs": [
      {
       "metadata": {},
       "output_type": "pyout",
       "prompt_number": 27,
       "text": [
        "r (generic function with 1 method)"
       ]
      }
     ],
     "prompt_number": 27
    },
    {
     "cell_type": "markdown",
     "metadata": {},
     "source": [
      "- DLista de algunas constantes de masas:"
     ]
    },
    {
     "cell_type": "code",
     "collapsed": false,
     "input": [
      "Sol=1.989e30 #Kg\n",
      "Tierra=5.972e24 #Kg"
     ],
     "language": "python",
     "metadata": {},
     "outputs": [
      {
       "metadata": {},
       "output_type": "pyout",
       "prompt_number": 35,
       "text": [
        "5.972e24"
       ]
      }
     ],
     "prompt_number": 35
    },
    {
     "cell_type": "markdown",
     "metadata": {},
     "source": [
      "- Lista de la velocidad orbital media para algunos cuerpos."
     ]
    },
    {
     "cell_type": "code",
     "collapsed": false,
     "input": [
      "VelRadTierra=29.78 #km/s"
     ],
     "language": "python",
     "metadata": {},
     "outputs": [
      {
       "metadata": {},
       "output_type": "pyout",
       "prompt_number": 41,
       "text": [
        "29.78"
       ]
      }
     ],
     "prompt_number": 41
    },
    {
     "cell_type": "markdown",
     "metadata": {},
     "source": [
      "- $\\Delta t$ de un mes"
     ]
    },
    {
     "cell_type": "code",
     "collapsed": false,
     "input": [
      "dtTierra=2592000"
     ],
     "language": "python",
     "metadata": {},
     "outputs": [
      {
       "metadata": {},
       "output_type": "pyout",
       "prompt_number": 44,
       "text": [
        "2592000"
       ]
      }
     ],
     "prompt_number": 44
    },
    {
     "cell_type": "code",
     "collapsed": false,
     "input": [],
     "language": "python",
     "metadata": {},
     "outputs": []
    },
    {
     "cell_type": "code",
     "collapsed": false,
     "input": [
      "TiempoFinalTierra=3.155e7 #s"
     ],
     "language": "python",
     "metadata": {},
     "outputs": [
      {
       "metadata": {},
       "output_type": "pyout",
       "prompt_number": 39,
       "text": [
        "3.155e7"
       ]
      }
     ],
     "prompt_number": 39
    },
    {
     "cell_type": "markdown",
     "metadata": {},
     "source": [
      "- Definimos alg\u00fanas distancias entre cuerpos."
     ]
    },
    {
     "cell_type": "code",
     "collapsed": false,
     "input": [
      "SolTierra=149600000000 #m"
     ],
     "language": "python",
     "metadata": {},
     "outputs": [
      {
       "metadata": {},
       "output_type": "pyout",
       "prompt_number": 29,
       "text": [
        "149600000000"
       ]
      }
     ],
     "prompt_number": 29
    },
    {
     "cell_type": "markdown",
     "metadata": {},
     "source": [
      "- Definimos constantes universales"
     ]
    },
    {
     "cell_type": "code",
     "collapsed": false,
     "input": [
      "G= 6.673e-11 #N.m/Kg.Kg"
     ],
     "language": "python",
     "metadata": {},
     "outputs": [
      {
       "metadata": {},
       "output_type": "pyout",
       "prompt_number": 30,
       "text": [
        "6.673e-11"
       ]
      }
     ],
     "prompt_number": 30
    },
    {
     "cell_type": "code",
     "collapsed": false,
     "input": [
      "function a(t,q0,v0)\n",
      "    m1=Tierra\n",
      "    m2=Sol\n",
      "    (G/(r(q0)^3)).*[m1*x(q0),m1*y(q0),-x(q0)*m2,-m2*y(q0)]\n",
      "end"
     ],
     "language": "python",
     "metadata": {},
     "outputs": [
      {
       "metadata": {},
       "output_type": "pyout",
       "prompt_number": 31,
       "text": [
        "a (generic function with 2 methods)"
       ]
      }
     ],
     "prompt_number": 31
    },
    {
     "cell_type": "code",
     "collapsed": false,
     "input": [
      "function RungeKutta4(q0,v0,f,t,h)\n",
      "    l1=h*f(t,q0,v0)\n",
      "    k1=h*v0\n",
      "    l2=h*f(t+h/2,q0+k1/2,v0+l1/2)\n",
      "    k2=h*(v0+l1/2)\n",
      "    l3=h*f(t+h/2,q0+k2/2,v0+l2/2)\n",
      "    k3=h*(v0+l2/2)\n",
      "    l4=h*f(t+h,q0+k3,v0+l3)\n",
      "    k4=h*(v0+l3)\n",
      "    qnueva=q0+(1/6)*(k1+2k2+2k3+k4)\n",
      "    vnueva=v0+(1/6)*(l1+2l2+2l3+l4)\n",
      "    vnueva,qnueva\n",
      "end"
     ],
     "language": "python",
     "metadata": {},
     "outputs": [
      {
       "metadata": {},
       "output_type": "pyout",
       "prompt_number": 32,
       "text": [
        "RungeKutta4 (generic function with 3 methods)"
       ]
      }
     ],
     "prompt_number": 32
    },
    {
     "cell_type": "code",
     "collapsed": false,
     "input": [
      "function Integrar(metodo,q0,v0,t0,tf,h,f)\n",
      "    q = Vector{Float64}[]\n",
      "    v = Vector{Float64}[]\n",
      "    t = Float64[]\n",
      "    for ti in t0:h:tf\n",
      "        v0,q0=metodo(q0,v0,f,ti,h)\n",
      "        push!(t,ti)\n",
      "        push!(q,[q0])\n",
      "        push!(v,[v0])\n",
      "    end\n",
      "    t,hcat(q...)',hcat(v...)'\n",
      "end"
     ],
     "language": "python",
     "metadata": {},
     "outputs": [
      {
       "metadata": {},
       "output_type": "pyout",
       "prompt_number": 34,
       "text": [
        "Integrar (generic function with 2 methods)"
       ]
      }
     ],
     "prompt_number": 34
    },
    {
     "cell_type": "code",
     "collapsed": false,
     "input": [
      "fig2 = figure()\n",
      "ax = plt.axes(xlim=(-2, 2), ylim=(-2, 2))\n",
      "\n",
      "global line1 = ax[:plot]([], [], \"bo\", lw=2)[1]\n",
      "\n",
      "function init()\n",
      "    global line1\n",
      "\n",
      "    line1[:set_data]([], [])\n",
      "\n",
      "    return ([line1],None)\n",
      "end\n",
      "\n",
      "T,Q,DQ=Integrar(RungeKutta4,[0,0,SolTierra,0],[0,0,0,VelRadTierra],0,TiempoFinalTierra,0.1,a,1e-5) #(metodo,q0,v0,t0,tf,h,f)\n",
      "X1,Y1,X2,Y2=Q[:,1],Q[:,2],Q[:,3],Q[:,4]\n",
      "\n",
      "\n",
      "function animate2(i)\n",
      "    global line1\n",
      "    line1[:set_data]([X1[i+1],X2[i+1]],[Y1[i+1],Y2[i+1]])\n",
      "    return ([line1],None)\n",
      "end;"
     ],
     "language": "python",
     "metadata": {},
     "outputs": []
    },
    {
     "cell_type": "code",
     "collapsed": false,
     "input": [
      "myanim2 = anim.FuncAnimation(fig2, animate2, init_func=init, frames=100, interval=20, blit=true);\n",
      "myanim2[:save](\"planetas.gif\", writer=\"imagemagick\", fps=30);"
     ],
     "language": "python",
     "metadata": {},
     "outputs": [],
     "prompt_number": 9
    },
    {
     "cell_type": "markdown",
     "metadata": {},
     "source": [
      "`![anim](planetas.gif)`\n",
      "![anim](planetas.gif)"
     ]
    },
    {
     "cell_type": "code",
     "collapsed": false,
     "input": [
      "R=sqrt(X2.^2+Y2.^2);"
     ],
     "language": "python",
     "metadata": {},
     "outputs": [],
     "prompt_number": 10
    },
    {
     "cell_type": "code",
     "collapsed": false,
     "input": [
      "plot(T,R)\n",
      "xlabel(L\"$t$\")\n",
      "ylabel(L\"$r$\")"
     ],
     "language": "python",
     "metadata": {},
     "outputs": [
      {
       "metadata": {},
       "output_type": "display_data",
       "png": "[encoded data removed]",
       "text": [
        "Figure(PyObject <matplotlib.figure.Figure object at 0xab13fc4c>)"
       ]
      },
      {
       "metadata": {},
       "output_type": "pyout",
       "prompt_number": 11,
       "text": [
        "PyObject <matplotlib.text.Text object at 0xab0f5e4c>"
       ]
      }
     ],
     "prompt_number": 11
    },
    {
     "cell_type": "markdown",
     "metadata": {},
     "source": [
      "#END"
     ]
    },
    {
     "cell_type": "code",
     "collapsed": false,
     "input": [
      "60*60*24*30"
     ],
     "language": "python",
     "metadata": {},
     "outputs": [
      {
       "metadata": {},
       "output_type": "pyout",
       "prompt_number": 40,
       "text": [
        "2592000"
       ]
      }
     ],
     "prompt_number": 40
    },
    {
     "cell_type": "code",
     "collapsed": false,
     "input": [],
     "language": "python",
     "metadata": {},
     "outputs": []
    }
   ],
   "metadata": {}
  }
 ]
}