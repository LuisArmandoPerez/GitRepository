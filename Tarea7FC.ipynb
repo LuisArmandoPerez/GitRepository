{
 "metadata": {
  "language": "Julia",
  "name": "",
  "signature": "sha256:1936927bb35c4b0133d2334623b2d605fb050fc92917d97173fc66e976ddd172"
 },
 "nbformat": 3,
 "nbformat_minor": 0,
 "worksheets": [
  {
   "cells": [
    {
     "cell_type": "heading",
     "level": 1,
     "metadata": {},
     "source": [
      "Armando Lara"
     ]
    },
    {
     "cell_type": "heading",
     "level": 3,
     "metadata": {},
     "source": [
      "1) Resuelve la ecuaci\u00f3n de Laplace en una regi\u00f3n rectangular irregular hecha en Gimp."
     ]
    },
    {
     "cell_type": "heading",
     "level": 4,
     "metadata": {},
     "source": [
      "Mandar llamar paquetes."
     ]
    },
    {
     "cell_type": "code",
     "collapsed": false,
     "input": [
      "using Images\n",
      "using FixedPointNumbers"
     ],
     "language": "python",
     "metadata": {},
     "outputs": [],
     "prompt_number": 1
    },
    {
     "cell_type": "heading",
     "level": 4,
     "metadata": {},
     "source": [
      "Haciendo la Figura Iregular"
     ]
    },
    {
     "cell_type": "code",
     "collapsed": false,
     "input": [
      "img = imread(\"cuadrito.pbm\")\n",
      "#show(img)"
     ],
     "language": "python",
     "metadata": {},
     "outputs": [
      {
       "metadata": {},
       "output_type": "pyout",
       "png": "[encoded data removed]",
       "prompt_number": 2,
       "text": [
        "Gray Image with:\n",
        "  data: 16x16 Array{Gray{UfixedBase{Uint8,8}},2}\n",
        "  properties:\n",
        "    spatialorder:  x y\n",
        "    pixelspacing:  1 1\n",
        "    IMcs: Gray"
       ]
      }
     ],
     "prompt_number": 2
    },
    {
     "cell_type": "code",
     "collapsed": false,
     "input": [
      "img = imread(\"region.pbm\") #Uso esta porque el que defin\u00ed no me arroja \u00edndices interiores.\n",
      "#show(img)"
     ],
     "language": "python",
     "metadata": {},
     "outputs": [
      {
       "metadata": {},
       "output_type": "pyout",
       "png": "[encoded data removed]",
       "prompt_number": 40,
       "text": [
        "Gray Image with:\n",
        "  data: 16x16 Array{Gray{UfixedBase{Uint8,8}},2}\n",
        "  properties:\n",
        "    spatialorder:  x y\n",
        "    pixelspacing:  1 1\n",
        "    IMcs: Gray"
       ]
      }
     ],
     "prompt_number": 40
    },
    {
     "cell_type": "markdown",
     "metadata": {},
     "source": [
      "Al correr todo el notebook, aveces se saltaba la linea que sigue, entonces hay que asegurarse de que corra."
     ]
    },
    {
     "cell_type": "code",
     "collapsed": false,
     "input": [
      "nx, ny = size(domain)"
     ],
     "language": "python",
     "metadata": {},
     "outputs": [
      {
       "metadata": {},
       "output_type": "pyout",
       "prompt_number": 22,
       "text": [
        "(16,16)"
       ]
      }
     ],
     "prompt_number": 22
    },
    {
     "cell_type": "code",
     "collapsed": false,
     "input": [
      "domain = int(data(reinterpret(Ufixed8, img))');"
     ],
     "language": "python",
     "metadata": {},
     "outputs": [],
     "prompt_number": 23
    },
    {
     "cell_type": "markdown",
     "metadata": {},
     "source": [
      "Hago una funci\u00f3n que me permita crear una figura irregular."
     ]
    },
    {
     "cell_type": "code",
     "collapsed": false,
     "input": [
      "function figura(a,b,c,d)      \n",
      "    fig=domain \n",
      "    fig[a:b,c:d]=0 \n",
      "    fig   \n",
      "end"
     ],
     "language": "python",
     "metadata": {},
     "outputs": [
      {
       "metadata": {},
       "output_type": "pyout",
       "prompt_number": 24,
       "text": [
        "figura (generic function with 1 method)"
       ]
      }
     ],
     "prompt_number": 24
    },
    {
     "cell_type": "markdown",
     "metadata": {},
     "source": [
      "Voy a crear un marco."
     ]
    },
    {
     "cell_type": "code",
     "collapsed": false,
     "input": [
      "domain = int(data(reinterpret(Ufixed8, img))');\n",
      "F=figura(7,10,7,10);"
     ],
     "language": "python",
     "metadata": {},
     "outputs": [],
     "prompt_number": 41
    },
    {
     "cell_type": "markdown",
     "metadata": {},
     "source": [
      "Declaro las condiciones de mi figura."
     ]
    },
    {
     "cell_type": "code",
     "collapsed": false,
     "input": [
      "c_domain = (domain+ones(size(domain)))%2*500;"
     ],
     "language": "python",
     "metadata": {},
     "outputs": [],
     "prompt_number": 26
    },
    {
     "cell_type": "markdown",
     "metadata": {},
     "source": [
      "Se nombran los puntos de la frontera, que son los qu\u00e9 est\u00e1n afuera de la figura."
     ]
    },
    {
     "cell_type": "code",
     "collapsed": false,
     "input": [
      "b_i, b_j = findn(c_domain)"
     ],
     "language": "python",
     "metadata": {},
     "outputs": [
      {
       "metadata": {},
       "output_type": "pyout",
       "prompt_number": 27,
       "text": [
        "([1,2,3,4,5,6,7,8,9,10  \u2026  7,8,9,10,11,12,13,14,15,16],[1,1,1,1,1,1,1,1,1,1  \u2026  16,16,16,16,16,16,16,16,16,16])"
       ]
      }
     ],
     "prompt_number": 27
    },
    {
     "cell_type": "markdown",
     "metadata": {},
     "source": [
      "Se nombran los puntos internos a la frontera de la figura."
     ]
    },
    {
     "cell_type": "code",
     "collapsed": false,
     "input": [
      "int_i, int_j = findn(domain)"
     ],
     "language": "python",
     "metadata": {},
     "outputs": [
      {
       "metadata": {},
       "output_type": "pyout",
       "prompt_number": 28,
       "text": [
        "([2,3,4,5,6,7,8,9,10,11  \u2026  6,7,8,9,10,11,12,13,14,15],[2,2,2,2,2,2,2,2,2,2  \u2026  15,15,15,15,15,15,15,15,15,15])"
       ]
      }
     ],
     "prompt_number": 28
    },
    {
     "cell_type": "heading",
     "level": 4,
     "metadata": {},
     "source": [
      "Declarando las Condiciones  de Frontera."
     ]
    },
    {
     "cell_type": "markdown",
     "metadata": {},
     "source": [
      "Se declara la funci\u00f3n Dirichlet para poder establecer las condiciones iniciales."
     ]
    },
    {
     "cell_type": "code",
     "collapsed": false,
     "input": [
      "function f(x,y)\n",
      "    if x == 0.0 || y == 0.0\n",
      "        return 500.0\n",
      "    elseif x == 1.0 || y == 1.0\n",
      "        return 500.0\n",
      "    end\n",
      "end\n",
      "\n",
      "#f(x,y) = 1.0\n",
      "\n",
      "function Dirichlet(i, j, nx, ny)\n",
      "    x = linspace(0,1,nx)\n",
      "    y = linspace(0,1,ny)\n",
      "    return f(x[i], y[j])\n",
      "end"
     ],
     "language": "python",
     "metadata": {},
     "outputs": [
      {
       "metadata": {},
       "output_type": "pyout",
       "prompt_number": 29,
       "text": [
        "Dirichlet (generic function with 1 method)"
       ]
      }
     ],
     "prompt_number": 29
    },
    {
     "cell_type": "code",
     "collapsed": false,
     "input": [
      "u = zeros(size(domain));"
     ],
     "language": "python",
     "metadata": {},
     "outputs": [],
     "prompt_number": 30
    },
    {
     "cell_type": "markdown",
     "metadata": {},
     "source": [
      "Puse las condiciones de frontera, aqu\u00ed solamente voy a declararlo en la esquina superior izquierda del marco."
     ]
    },
    {
     "cell_type": "code",
     "collapsed": false,
     "input": [
      "for n in 1:length(b_i)\n",
      "   # u[b_i[n],b_j[n]] = Dirichlet(b_i[n], b_j[n], nx, ny)\n",
      " u[b_j[n]]= Dirichlet(b_i[n], b_j[n], nx, ny)\n",
      "end"
     ],
     "language": "python",
     "metadata": {},
     "outputs": [
      {
       "ename": "LoadError",
       "evalue": "`convert` has no method matching convert(::Type{Float64}, ::Nothing)\nwhile loading In[31], in expression starting on line 1",
       "output_type": "pyerr",
       "traceback": [
        "`convert` has no method matching convert(::Type{Float64}, ::Nothing)\nwhile loading In[31], in expression starting on line 1",
        "",
        " in setindex! at array.jl:307",
        " in anonymous at no file:3"
       ]
      }
     ],
     "prompt_number": 31
    },
    {
     "cell_type": "heading",
     "level": 4,
     "metadata": {},
     "source": [
      "Definiendo las ecuaciones de Laplace"
     ]
    },
    {
     "cell_type": "markdown",
     "metadata": {},
     "source": [
      "Se plantean las funciones relacionadas a la ecuaci\u00f3n de Laplace convenientes para el caso de 2 dimensiones."
     ]
    },
    {
     "cell_type": "code",
     "collapsed": false,
     "input": [
      "A(N)=full(SymTridiagonal(4*ones(N), -1*ones(N-1)))\n",
      "I(N)=full(Diagonal(-1*ones(N)))\n",
      "O(N)=zeros(N)\n",
      "M(N)=[A(N) I(N) O(N);I(N) A(N) I(N); O(N) I(N) A(N)]\n",
      "L2D(N)=kron(I(N), -A(N)) + kron(full(SymTridiagonal(zeros(N), 1*ones(N-1))), I(N))"
     ],
     "language": "python",
     "metadata": {},
     "outputs": [
      {
       "metadata": {},
       "output_type": "pyout",
       "prompt_number": 32,
       "text": [
        "L2D (generic function with 1 method)"
       ]
      }
     ],
     "prompt_number": 32
    },
    {
     "cell_type": "markdown",
     "metadata": {},
     "source": [
      "Se hace una funci\u00f3n qu\u00e9 genere un vector que contenga los puntos intermedios entre la frontera y los puntos interiores."
     ]
    },
    {
     "cell_type": "code",
     "collapsed": false,
     "input": [
      "b = zeros(14,14);\n",
      "b[1,:] = [u[1,i] for i in 2:15]\n",
      "b[1,1] += u[2,1]\n",
      "b[1,14] += u[2,16]\n",
      "\n",
      "for i in 2:13\n",
      "    b[i,1] = u[i,1]\n",
      "    b[i,14] = u[i,16]\n",
      "end\n",
      "\n",
      "b[14,:] = [u[16,i] for i in 2:15]\n",
      "b[14,1] += u[15,1]\n",
      "b[14,14] += u[15,16]\n",
      "b = reshape(b, (14*14,1));"
     ],
     "language": "python",
     "metadata": {},
     "outputs": [],
     "prompt_number": 33
    },
    {
     "cell_type": "markdown",
     "metadata": {},
     "source": [
      "Se crea una matr\u00edz a partir de las funciones declaradas para la ecuaci\u00f3n de Laplace."
     ]
    },
    {
     "cell_type": "code",
     "collapsed": false,
     "input": [
      "R=L2D(14);"
     ],
     "language": "python",
     "metadata": {},
     "outputs": [],
     "prompt_number": 34
    },
    {
     "cell_type": "heading",
     "level": 4,
     "metadata": {},
     "source": [
      "Resolviendo la ecuaci\u00f3n de Laplace en nuestra regi\u00f3n irregular."
     ]
    },
    {
     "cell_type": "markdown",
     "metadata": {},
     "source": [
      "Se hace una funci\u00f3n que resuelva, en la regi\u00f3n planteada y con las condiciones de frontera iniciales, la ecuaci\u00f3n de Laplace"
     ]
    },
    {
     "cell_type": "code",
     "collapsed": false,
     "input": [
      "function resolviendo(M,b)\n",
      "\n",
      "x = M\\b \n",
      "\n",
      "       u=zeros(nx,ny)\n",
      "    \n",
      "for n in 1:length(int_i) \n",
      "    u[int_i[n],int_j[n]] = x[n]\n",
      "end\n",
      "\n",
      "  u\n",
      "    \n",
      "end"
     ],
     "language": "python",
     "metadata": {},
     "outputs": [
      {
       "metadata": {},
       "output_type": "pyout",
       "prompt_number": 35,
       "text": [
        "resolviendo (generic function with 1 method)"
       ]
      }
     ],
     "prompt_number": 35
    },
    {
     "cell_type": "markdown",
     "metadata": {},
     "source": [
      "Se usa la funci\u00f3n anterior para resolver el ejercicio."
     ]
    },
    {
     "cell_type": "code",
     "collapsed": false,
     "input": [
      "s=resolviendo(R,b);"
     ],
     "language": "python",
     "metadata": {},
     "outputs": [],
     "prompt_number": 36
    },
    {
     "cell_type": "heading",
     "level": 4,
     "metadata": {},
     "source": [
      "Mostrando el dibujo de la soluci\u00f3n anterior."
     ]
    },
    {
     "cell_type": "markdown",
     "metadata": {},
     "source": [
      "Se manda llamar PyPlot para poder ver la imagen de la soluci\u00f3n."
     ]
    },
    {
     "cell_type": "code",
     "collapsed": false,
     "input": [
      "using PyPlot"
     ],
     "language": "python",
     "metadata": {},
     "outputs": [],
     "prompt_number": 37
    },
    {
     "cell_type": "markdown",
     "metadata": {},
     "source": [
      "Se hace la imagen correspondiente a la soluci\u00f3n del ejercicio."
     ]
    },
    {
     "cell_type": "code",
     "collapsed": false,
     "input": [
      "imshow(s, cmap=get_cmap(\"hot\"));"
     ],
     "language": "python",
     "metadata": {},
     "outputs": [
      {
       "metadata": {},
       "output_type": "display_data",
       "png": "[encoded data removed]",
       "text": [
        "Figure(PyObject <matplotlib.figure.Figure object at 0xadf56eac>)"
       ]
      }
     ],
     "prompt_number": 38
    },
    {
     "cell_type": "heading",
     "level": 5,
     "metadata": {},
     "source": [
      "#END"
     ]
    },
    {
     "cell_type": "code",
     "collapsed": false,
     "input": [],
     "language": "python",
     "metadata": {},
     "outputs": [],
     "prompt_number": 39
    },
    {
     "cell_type": "code",
     "collapsed": false,
     "input": [],
     "language": "python",
     "metadata": {},
     "outputs": []
    }
   ],
   "metadata": {}
  }
 ]
}