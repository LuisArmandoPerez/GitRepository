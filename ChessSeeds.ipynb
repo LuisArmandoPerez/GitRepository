{
 "metadata": {
  "language": "Julia",
  "name": "",
  "signature": "sha256:1be436180cd418651dc5020e69b1116494c0009f27fb0bb0fea0951d3b65332c"
 },
 "nbformat": 3,
 "nbformat_minor": 0,
 "worksheets": [
  {
   "cells": [
    {
     "cell_type": "heading",
     "level": 1,
     "metadata": {},
     "source": [
      "The Chess and The Seeds"
     ]
    },
    {
     "cell_type": "heading",
     "level": 3,
     "metadata": {},
     "source": [
      "The legend about the invention of this game."
     ]
    },
    {
     "cell_type": "markdown",
     "metadata": {},
     "source": [
      "The Brahman Lahur Sessa, also known as Sissa Ben Dahir (Ben Dahir means \"son of Dahir\"), heard that King Iadava was saddened by the death of his son, so he went to offer the game of chess as entertainment to forget their penalties. The king was so pleased with the game, that he wanted to thank the young man giving what he request.\n",
      "\n",
      "The only thing that Sessa asked for, was wheat. He asked the king to give him a seed of wheat for the first square of the chess, double for the second, twice in the third, and so on until the 64th box.\n",
      "\n",
      "In this programming code we are able to know how many seeds of wheat Sessa was asking for. And we are going to be able to change the initial conditions in order to play a little with this code."
     ]
    },
    {
     "cell_type": "heading",
     "level": 3,
     "metadata": {},
     "source": [
      "Parameters"
     ]
    },
    {
     "cell_type": "markdown",
     "metadata": {},
     "source": [
      "$s0$ $\\rightarrow$ Number of seeds in the first box.\n",
      "\n",
      "$b$ $\\rightarrow$  Number of the box in which you want to know how many seeds are, and how many seeds Seesa had in total."
     ]
    },
    {
     "cell_type": "heading",
     "level": 3,
     "metadata": {},
     "source": [
      "Code"
     ]
    },
    {
     "cell_type": "code",
     "collapsed": false,
     "input": [
      "function seeds(s0,b)\n",
      "    t=s0\n",
      "    ts=big(Float64[t])\n",
      "    s=big(float(s0))\n",
      "    for i in [1:b-1]\n",
      "        s_new=s*2\n",
      "        t_nueva=s_new+t\n",
      "        t=t_nueva\n",
      "        s=s_new \n",
      "    end\n",
      "    \"If Sessa put $s0 seed(s) in the first box, in box number $b were $s seeds, up to that box Sessa had $t seeds. Wow!\"\n",
      "end"
     ],
     "language": "python",
     "metadata": {},
     "outputs": [
      {
       "metadata": {},
       "output_type": "pyout",
       "prompt_number": 230,
       "text": [
        "seeds (generic function with 2 methods)"
       ]
      }
     ],
     "prompt_number": 230
    },
    {
     "cell_type": "heading",
     "level": 3,
     "metadata": {},
     "source": [
      "Lets see how many seeds does the king lost."
     ]
    },
    {
     "cell_type": "code",
     "collapsed": false,
     "input": [
      "seeds(1,64)"
     ],
     "language": "python",
     "metadata": {},
     "outputs": [
      {
       "metadata": {},
       "output_type": "pyout",
       "prompt_number": 234,
       "text": [
        "\"If Sessa put 1 seed(s) in the first box, in box number 64 were 9.223372036854775808e+18 seeds, up to that box Sessa had 1.8446744073709551615e+19 seeds. Wow!\""
       ]
      }
     ],
     "prompt_number": 234
    },
    {
     "cell_type": "heading",
     "level": 1,
     "metadata": {},
     "source": [
      "END"
     ]
    }
   ],
   "metadata": {}
  }
 ]
}