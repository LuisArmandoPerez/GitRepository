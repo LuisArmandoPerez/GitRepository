{
 "metadata": {
  "language": "Julia",
  "name": "",
  "signature": "sha256:6e83659fea7d44fa9a39d21650724fb57ae90b5d2248ed61b553a7c042ccd4d9"
 },
 "nbformat": 3,
 "nbformat_minor": 0,
 "worksheets": [
  {
   "cells": [
    {
     "cell_type": "heading",
     "level": 1,
     "metadata": {},
     "source": [
      "Difusi\u00f3n"
     ]
    },
    {
     "cell_type": "markdown",
     "metadata": {},
     "source": [
      "Considera una caminata aleatoria en una dimensi\u00f3n, como en la \u00faltima tarea. Ve\u00e1mosla desde un punto de vista \"dual\", en t\u00e9rminos no de las trayectorias individuales de las part\u00edculas, o realizaciones del proceso. Pensemos en caracterizar la *distribuci\u00f3n de probabilidad* completa.\n",
      "\n",
      "Sea $P_t(i)$ la *probabilidad* de que el caminante se encuentre en el sitio $i$ al tiempo (discreto) $t \\in \\mathbb{N}$.  Entonces el conjunto de valores $\\{ P_t(i)$: $i \\in \\mathbb{Z} \\}$ se llama la *distribuci\u00f3n* (o, estrictamente, *funci\u00f3n de masa de la distribuci\u00f3n*) de probabilidad al tiempo $t$."
     ]
    },
    {
     "cell_type": "markdown",
     "metadata": {},
     "source": [
      "- 1) Sup\u00f3n que el caminante siempre comienza en $i=0$. Escribe la distribuci\u00f3n de probabilidad inicial $P_0(i)$.  [\u00bfCu\u00e1nto vale $P_0(i=57)$?]"
     ]
    },
    {
     "cell_type": "markdown",
     "metadata": {},
     "source": [
      "- 2) Escribe una ecuaci\u00f3n para $P_{t+1}(i)$, considerando c\u00f3mo se mueve la probabilidad debido a la din\u00e1mica del caminante (brinca a la derecha con probabilidad $p$, y a la izquierda con probabilidad $q:=1-p$).  Una ecuaci\u00f3n de este tipo se llama una *ecuaci\u00f3n maestra*."
     ]
    },
    {
     "cell_type": "markdown",
     "metadata": {},
     "source": [
      "- 3) Resuelve num\u00e9ricamente la ecuaci\u00f3n para $p=q=\\frac{1}{2}$ y dibuja la evoluci\u00f3n de la distribuci\u00f3n en el tiempo.\n",
      "\u00bfQu\u00e9 observas? \u00bfA qu\u00e9 se parece la distribuci\u00f3n?"
     ]
    },
    {
     "cell_type": "markdown",
     "metadata": {},
     "source": [
      "- 4) \u00bfQu\u00e9 pasa para otros valores de $p$?"
     ]
    },
    {
     "cell_type": "heading",
     "level": 1,
     "metadata": {},
     "source": [
      "Primer paso"
     ]
    },
    {
     "cell_type": "markdown",
     "metadata": {},
     "source": [
      "Muchos problemas en la f\u00edsica, qu\u00edmica, biolog\u00eda y econom\u00eda se pueden pensar como *problemas de primer paso* de un proceso estoc\u00e1stico: \u00bfcu\u00e1ndo es el *primer tiempo* en el cual ocurre cierto evento? Suelen ser sencillos de plantear, pero \u00a1dif\u00edciles de resolver!\n",
      "\n",
      "Uno de los problemas m\u00e1s sencillos de este tipo es el siguiente.\n",
      "\n",
      "Un caminante vive en los enteros. Empieza en $1$ y brinca en cada paso con probabilidades iguales $p=q=\\frac{1}{2}$ a los dos sitios vecinos. \u00bfCu\u00e1nto tiempo tardar\u00e1 en llegar a 0? Llamamos a esta cantidad el *tiempo de primer paso a 0*; lo denotaremos $T$.  La cantidad $T$ es una *variable aleatoria*: tomar\u00e1 un valor diferente en cada corrida del programa (realizaci\u00f3n del proceso).\n"
     ]
    },
    {
     "cell_type": "code",
     "collapsed": false,
     "input": [
      "function fPrimerPaso(x0)\n",
      "    ts=[]\n",
      "    t=0\n",
      "    while x0 != 0\n",
      "    if rand()<0.5\n",
      "        x_nueva=x0+1\n",
      "    else\n",
      "        x_nueva=x0-1\n",
      "    end\n",
      "        t_nueva=t+1\n",
      "        t=t_nueva\n",
      "        x0=x_nueva\n",
      "    end\n",
      "    t\n",
      "end"
     ],
     "language": "python",
     "metadata": {},
     "outputs": [
      {
       "metadata": {},
       "output_type": "pyout",
       "prompt_number": 165,
       "text": [
        "fPrimerPaso (generic function with 1 method)"
       ]
      }
     ],
     "prompt_number": 165
    },
    {
     "cell_type": "markdown",
     "metadata": {},
     "source": [
      "Resolv\u00e1moslo primero con un *m\u00e9todo tipo Monte Carlo*, es decir, en el cual ocupamos n\u00fameros aleatorios."
     ]
    },
    {
     "cell_type": "markdown",
     "metadata": {},
     "source": [
      "- 5) Escribe una funci\u00f3n para resolver este problema. Imp\u00f3n un n\u00famero m\u00e1ximo de brincos permitidos. La funci\u00f3n devuelve el tiempo para que la part\u00edcula llegue a 0."
     ]
    },
    {
     "cell_type": "code",
     "collapsed": false,
     "input": [
      "function f5(x0,n)   \n",
      "    ts=[]\n",
      "    t=0\n",
      "    while x0 != 0\n",
      "    if rand()<0.5\n",
      "        x_nueva=x0+1\n",
      "    else\n",
      "        x_nueva=x0-1\n",
      "    end\n",
      "        t_nueva=t+1         \n",
      "        if t_nueva == n\n",
      "            break\n",
      "        else\n",
      "       t=t_nueva\n",
      "        x0=x_nueva\n",
      "        end\n",
      "    end\n",
      "    t\n",
      "end"
     ],
     "language": "python",
     "metadata": {},
     "outputs": [
      {
       "metadata": {},
       "output_type": "pyout",
       "prompt_number": 167,
       "text": [
        "f5 (generic function with 2 methods)"
       ]
      }
     ],
     "prompt_number": 167
    },
    {
     "cell_type": "markdown",
     "metadata": {},
     "source": [
      "- 6) Corre la funci\u00f3n muchas veces y guarda los datos producidos. Exam\u00ednalos -- \u00bfc\u00f3mo se ven?"
     ]
    },
    {
     "cell_type": "markdown",
     "metadata": {},
     "source": [
      "- 7) Dibuja una gr\u00e1fica para entender mejor los datos. \u00bfQu\u00e9 tipo de gr\u00e1fica te conviene?"
     ]
    },
    {
     "cell_type": "markdown",
     "metadata": {},
     "source": [
      "- 8) Una vez que hayas dibujado una gr\u00e1fica adecuada, deber\u00edas ver un comportamiento particular. Intenta ajustar (a mano) los datos. \u00bfC\u00f3mo se comporta "
     ]
    },
    {
     "cell_type": "heading",
     "level": 2,
     "metadata": {},
     "source": [
      "Otro enfoque"
     ]
    },
    {
     "cell_type": "markdown",
     "metadata": {},
     "source": [
      "Hay otras maneras de resolver el problema. \n",
      "\n",
      "Sea $\\tau_i$ el *tiempo promedio* para llegar a 0, *partiendo* del sitio inicial $i$."
     ]
    },
    {
     "cell_type": "markdown",
     "metadata": {},
     "source": [
      "[9] Escribe una ecuaci\u00f3n para $\\tau_i$. Cu\u00e1l es la condici\u00f3n de frontera en $i=0$?\n",
      "\n",
      "[10] Sup\u00f3n que el sistema tiene tama\u00f1o finito, de $0$ hasta $L$ (o sea, de tama\u00f1o $L+1$). Sup\u00f3n que si la part\u00edcula se encuentra en $i=L$ e intenta brincar a la derecha, se refleja contra un espejo [en \"$L + \\frac{1}{2}$\"] y se regresa a $L$. Plantea la condici\u00f3n de frontera.\n",
      "\n",
      "[11] Plantea el sistema de ecuaciones en la computadora y res\u00faelvelo. Puedes utilizar el operador `\\` de Julia, que resuelve sistemas de ecuaciones. "
     ]
    },
    {
     "cell_type": "markdown",
     "metadata": {},
     "source": [
      "[12] Calcula $\\tau_1(L)$ (la soluci\u00f3n del problema original) para distintos tama\u00f1os $L$ y dib\u00fajalos. Haz un ajuste (a mano) para ver c\u00f3mo cambia $\\tau_1(L)$ con $L$. \u00bfQu\u00e9 pasa cuando $L \\to \\infty$?"
     ]
    },
    {
     "cell_type": "heading",
     "level": 2,
     "metadata": {},
     "source": [
      "Enumeraci\u00f3n exacta"
     ]
    },
    {
     "cell_type": "markdown",
     "metadata": {},
     "source": [
      "Otro m\u00e9todo m\u00e1s se llama *enumeraci\u00f3n exacta*. B\u00e1sicamente consiste en resolver exactamente la ecuaci\u00f3n maestra del sistema, para un sistema finito.\n",
      "\n",
      "[13] Plantea la ecuaci\u00f3n maestra para sitios internos (entre $1$ y $L-1$) y para los sitios de frontera.\n",
      "\n",
      "[14] Resuelve las ecuaciones de evoluci\u00f3n. En cada paso, cierta cantidad de probabilidad $P_t(i=0)$ llega al sitio $0$. Es la probabilidad $P(T=t)$ de que el caminante salga del sistema en el paso $t$. Gu\u00e1rdalo en otro arreglo, y *pon igual a 0 la entrada correspondiente de $P_t(0)$. Esto es una *condici\u00f3n de frontera absorbente*; representa el hecho de que esta fracci\u00f3n de part\u00edculas *se mueren*."
     ]
    },
    {
     "cell_type": "markdown",
     "metadata": {},
     "source": [
      "[15] Grafica la distribuci\u00f3n $f_L(T=t)$ (es decir, la probabilidad de que el tiempo de primer paso sea igual a $t$) para distintos tama\u00f1os $L$. \u00bfQu\u00e9 observas? \u00bfQu\u00e9 forma tiene la distribuci\u00f3n cuando $L \\to \\infty$?"
     ]
    },
    {
     "cell_type": "heading",
     "level": 1,
     "metadata": {},
     "source": [
      "Encuentros de caminantes aleatorios"
     ]
    },
    {
     "cell_type": "markdown",
     "metadata": {},
     "source": [
      "Considera 2 caminantes aleatorios en 1D, con trayectorias $x_1(t)$ y $x_2(t)$. Podemos preguntarnos cu\u00e1ndo habr\u00e1 un *encuentro*, es decir, cuando caigan en el mismo sitio, $x_1(t)= x_2(t)$."
     ]
    },
    {
     "cell_type": "markdown",
     "metadata": {},
     "source": [
      "[16] \u00bfC\u00f3mo puedes utilizar tus resultados anteriores para resolver este problema cuando el sistema es infinito? \u00bfQu\u00e9 concluyes?"
     ]
    },
    {
     "cell_type": "markdown",
     "metadata": {},
     "source": [
      "[17] Cuando el sistema no es infinito, la situaci\u00f3n cambia. Adivina c\u00f3mo. \u00bfC\u00f3mo se podr\u00eda calcular el tiempo de encuentro? Hazlo. [\u00a1Esto constituye un tema de investigaci\u00f3n actual m\u00edo!]"
     ]
    }
   ],
   "metadata": {}
  }
 ]
}