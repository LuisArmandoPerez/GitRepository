{
 "metadata": {
  "language": "Julia",
  "name": "",
  "signature": "sha256:a27542930e069d7c2b26f5df85b89df21aad144e90e3069e2aa7d4fb9faa9ac8"
 },
 "nbformat": 3,
 "nbformat_minor": 0,
 "worksheets": [
  {
   "cells": [
    {
     "cell_type": "markdown",
     "metadata": {},
     "source": [
      "#@less"
     ]
    },
    {
     "cell_type": "code",
     "collapsed": false,
     "input": [
      "# \"@less\" muestra el c\u00f3digo"
     ],
     "language": "python",
     "metadata": {},
     "outputs": [],
     "prompt_number": 3
    },
    {
     "cell_type": "markdown",
     "metadata": {},
     "source": [
      "#End"
     ]
    }
   ],
   "metadata": {}
  }
 ]
}