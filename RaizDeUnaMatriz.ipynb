{
 "metadata": {
  "language": "Julia",
  "name": "",
  "signature": "sha256:e8f8c08f9584214e5823ba65cd894e2ff60eaa9b90d15615c403361fbd8a53bc"
 },
 "nbformat": 3,
 "nbformat_minor": 0,
 "worksheets": [
  {
   "cells": [
    {
     "cell_type": "heading",
     "level": 2,
     "metadata": {},
     "source": [
      "    Ra\u00edz de una Matr\u00edz"
     ]
    },
    {
     "cell_type": "heading",
     "level": 4,
     "metadata": {},
     "source": [
      "Escribimos el c\u00f3digo:"
     ]
    },
    {
     "cell_type": "code",
     "collapsed": false,
     "input": [
      "function Raiz_de_la_matr\u00edz(M)\n",
      "    X(M)=eye(M)\n",
      "    inversa_de_X(M)=inv(X(M))\n",
      "    Raiz_de_M(M)=(1/2)*(X(M)+M*inversa_de_X(M))\n",
      "    T=Raiz_de_M(M)\n",
      "    X(M)=T\n",
      "    for i in [1:100]\n",
      "    inversa_de_X(M)=inv(X(M))\n",
      "    Raiz_de_M(M)=(1/2)*(X(M)+M*inversa_de_X(M))\n",
      "    T=Raiz_de_M(M)\n",
      "    end\n",
      "    i=i+1\n",
      "    T\n",
      "end "
     ],
     "language": "python",
     "metadata": {},
     "outputs": [
      {
       "metadata": {},
       "output_type": "pyout",
       "prompt_number": 27,
       "text": [
        "Raiz_de_la_matr\u00edz (generic function with 1 method)"
       ]
      }
     ],
     "prompt_number": 27
    },
    {
     "cell_type": "heading",
     "level": 4,
     "metadata": {},
     "source": [
      "Para probar el c\u00f3digo definimos una matr\u00edz A."
     ]
    },
    {
     "cell_type": "code",
     "collapsed": false,
     "input": [
      "A=[5 -1;1 3]"
     ],
     "language": "python",
     "metadata": {},
     "outputs": [
      {
       "metadata": {},
       "output_type": "pyout",
       "prompt_number": 28,
       "text": [
        "2x2 Array{Int32,2}:\n",
        " 5  -1\n",
        " 1   3"
       ]
      }
     ],
     "prompt_number": 28
    },
    {
     "cell_type": "heading",
     "level": 4,
     "metadata": {},
     "source": [
      "Le sacamos la ra\u00edz con nuestro c\u00f3digo:"
     ]
    },
    {
     "cell_type": "code",
     "collapsed": false,
     "input": [
      "RA=Raiz_de_la_matr\u00edz(A)"
     ],
     "language": "python",
     "metadata": {},
     "outputs": [
      {
       "metadata": {},
       "output_type": "pyout",
       "prompt_number": 29,
       "text": [
        "2x2 Array{Float64,2}:\n",
        " 2.25  -0.25\n",
        " 0.25   1.75"
       ]
      }
     ],
     "prompt_number": 29
    },
    {
     "cell_type": "heading",
     "level": 4,
     "metadata": {},
     "source": [
      "La elevamos al cuadrado para ver si nos regresa A."
     ]
    },
    {
     "cell_type": "code",
     "collapsed": false,
     "input": [
      "Nueva_A=RA*RA "
     ],
     "language": "python",
     "metadata": {},
     "outputs": [
      {
       "metadata": {},
       "output_type": "pyout",
       "prompt_number": 30,
       "text": [
        "2x2 Array{Float64,2}:\n",
        " 5.0  -1.0\n",
        " 1.0   3.0"
       ]
      }
     ],
     "prompt_number": 30
    },
    {
     "cell_type": "heading",
     "level": 4,
     "metadata": {},
     "source": [
      "Vemos que es la misma que la original, por lo tanto est\u00e1 bien el c\u00f3digo."
     ]
    },
    {
     "cell_type": "heading",
     "level": 2,
     "metadata": {},
     "source": [
      " END"
     ]
    }
   ],
   "metadata": {}
  }
 ]
}