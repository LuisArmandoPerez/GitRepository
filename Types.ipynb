{
 "metadata": {
  "language": "Julia",
  "name": "",
  "signature": "sha256:503cd703db7a75ac36b3c3214bf39e8a0148ab09472fdbe43500d865d4ea6e14"
 },
 "nbformat": 3,
 "nbformat_minor": 0,
 "worksheets": [
  {
   "cells": [
    {
     "cell_type": "markdown",
     "metadata": {},
     "source": [
      "#Particle"
     ]
    },
    {
     "cell_type": "code",
     "collapsed": false,
     "input": [
      "type Particle #for something that can't be modify instead of \"type\" is \"immutable\"\n",
      "    x::Float64\n",
      "    v::Float64\n",
      "end"
     ],
     "language": "python",
     "metadata": {},
     "outputs": [],
     "prompt_number": 12
    },
    {
     "cell_type": "markdown",
     "metadata": {},
     "source": [
      "#Example Particle"
     ]
    },
    {
     "cell_type": "code",
     "collapsed": false,
     "input": [
      "p=Particle(0,1)"
     ],
     "language": "python",
     "metadata": {},
     "outputs": [
      {
       "metadata": {},
       "output_type": "pyout",
       "prompt_number": 13,
       "text": [
        "Particle(0.0,1.0)"
       ]
      }
     ],
     "prompt_number": 13
    },
    {
     "cell_type": "code",
     "collapsed": false,
     "input": [
      "typeof(p)"
     ],
     "language": "python",
     "metadata": {},
     "outputs": [
      {
       "metadata": {},
       "output_type": "pyout",
       "prompt_number": 14,
       "text": [
        "Particle"
       ]
      }
     ],
     "prompt_number": 14
    },
    {
     "cell_type": "code",
     "collapsed": false,
     "input": [
      "methods(Particle)"
     ],
     "language": "python",
     "metadata": {},
     "outputs": [
      {
       "metadata": {},
       "output_type": "pyout",
       "prompt_number": 15,
       "text": [
        "3-element Array{Any,1}:\n",
        " call(::Type{Particle},x::Float64,v::Float64)\n",
        " call(::Type{Particle},x,v)                  \n",
        " call{T}(::Type{T},args...) at base.jl:34    "
       ]
      }
     ],
     "prompt_number": 15
    },
    {
     "cell_type": "code",
     "collapsed": false,
     "input": [
      "mover!(p::Particle, dt)=p.x =p.x+dt*p.v  # ! indicates that this order modify what it contains.\n",
      "# p.x = \"la equis de esta p\""
     ],
     "language": "python",
     "metadata": {},
     "outputs": [
      {
       "metadata": {},
       "output_type": "pyout",
       "prompt_number": 19,
       "text": [
        "mover! (generic function with 2 methods)"
       ]
      }
     ],
     "prompt_number": 19
    },
    {
     "cell_type": "code",
     "collapsed": false,
     "input": [
      "mover!(p,0.1)"
     ],
     "language": "python",
     "metadata": {},
     "outputs": [
      {
       "metadata": {},
       "output_type": "pyout",
       "prompt_number": 17,
       "text": [
        "0.1"
       ]
      }
     ],
     "prompt_number": 17
    },
    {
     "cell_type": "code",
     "collapsed": false,
     "input": [
      "p"
     ],
     "language": "python",
     "metadata": {},
     "outputs": [
      {
       "metadata": {},
       "output_type": "pyout",
       "prompt_number": 18,
       "text": [
        "Particle(0.1,1.0)"
       ]
      }
     ],
     "prompt_number": 18
    },
    {
     "cell_type": "markdown",
     "metadata": {},
     "source": [
      "#END"
     ]
    }
   ],
   "metadata": {}
  }
 ]
}