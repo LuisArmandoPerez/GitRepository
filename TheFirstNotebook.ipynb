{
 "metadata": {
  "language": "Julia",
  "name": "",
  "signature": "sha256:ab954b2cabacf5e9446f814629d82c63f7db09bd60959b2d32cbe73326c139a6"
 },
 "nbformat": 3,
 "nbformat_minor": 0,
 "worksheets": [
  {
   "cells": [
    {
     "cell_type": "code",
     "collapsed": false,
     "input": [
      ";git init"
     ],
     "language": "python",
     "metadata": {},
     "outputs": [
      {
       "output_type": "stream",
       "stream": "stdout",
       "text": [
        "Reinitialized existing Git repository in /home/a9lara/GitRepository/.git/\n"
       ]
      }
     ],
     "prompt_number": 1
    },
    {
     "cell_type": "code",
     "collapsed": false,
     "input": [
      ";git remote add origin https://github.com/a9lara/GitRepository.git"
     ],
     "language": "python",
     "metadata": {},
     "outputs": [
      {
       "output_type": "stream",
       "stream": "stderr",
       "text": [
        "fatal: remote origin already exists.\n"
       ]
      }
     ],
     "prompt_number": 2
    },
    {
     "cell_type": "code",
     "collapsed": false,
     "input": [
      ";git push -u origin master"
     ],
     "language": "python",
     "metadata": {},
     "outputs": [
      {
       "output_type": "stream",
       "stream": "stderr",
       "text": [
        "Everything up-to-date\n"
       ]
      },
      {
       "output_type": "stream",
       "stream": "stdout",
       "text": [
        "Branch master set up to track remote branch master from origin.\n"
       ]
      }
     ],
     "prompt_number": 4
    },
    {
     "cell_type": "code",
     "collapsed": false,
     "input": [
      ";xclip -sel clip < ~/.ssh/id_rsa.pub"
     ],
     "language": "python",
     "metadata": {},
     "outputs": [],
     "prompt_number": 1
    },
    {
     "cell_type": "code",
     "collapsed": false,
     "input": [
      "(/home/a9lara/.ssh/id_rsa)"
     ],
     "language": "python",
     "metadata": {},
     "outputs": [
      {
       "ename": "LoadError",
       "evalue": "syntax: missing separator in tuple\nwhile loading In[1], in expression starting on line 1",
       "output_type": "pyerr",
       "traceback": [
        "syntax: missing separator in tuple\nwhile loading In[1], in expression starting on line 1",
        ""
       ]
      }
     ],
     "prompt_number": 1
    },
    {
     "cell_type": "code",
     "collapsed": false,
     "input": [
      "Pkg.add(\"Markdown\")"
     ],
     "language": "python",
     "metadata": {},
     "outputs": [
      {
       "output_type": "stream",
       "stream": "stderr",
       "text": [
        "INFO: Cloning cache of Lazy from git://github.com/one-more-minute/Lazy.jl.git\n"
       ]
      },
      {
       "output_type": "stream",
       "stream": "stderr",
       "text": [
        "INFO: Cloning cache of Markdown from git://github.com/one-more-minute/Markdown.jl.git\n"
       ]
      },
      {
       "output_type": "stream",
       "stream": "stderr",
       "text": [
        "INFO: Installing Lazy v0.5.0\n"
       ]
      },
      {
       "output_type": "stream",
       "stream": "stderr",
       "text": [
        "INFO: Installing Markdown v0.2.1\n"
       ]
      },
      {
       "output_type": "stream",
       "stream": "stderr",
       "text": [
        "INFO: Package database updated\n"
       ]
      },
      {
       "output_type": "stream",
       "stream": "stderr",
       "text": [
        "INFO: METADATA is out-of-date \u2014 you may not have the latest version of Markdown\n",
        "INFO: Use `Pkg.update()` to get the latest versions of your packages\n"
       ]
      }
     ],
     "prompt_number": 2
    },
    {
     "cell_type": "code",
     "collapsed": false,
     "input": [],
     "language": "python",
     "metadata": {},
     "outputs": []
    }
   ],
   "metadata": {}
  }
 ]
}